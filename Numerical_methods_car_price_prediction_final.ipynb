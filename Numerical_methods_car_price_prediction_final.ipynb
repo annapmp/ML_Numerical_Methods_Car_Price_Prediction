{
 "cells": [
  {
   "cell_type": "markdown",
   "metadata": {},
   "source": [
    "**Review**\n",
    "  \n",
    "Hi, my name is Dmitry and I will be reviewing your project.\n",
    "  \n",
    "You can find my comments in colored markdown cells:\n",
    "  \n",
    "<div class=\"alert alert-success\">\n",
    "  If everything is done successfully.\n",
    "</div>\n",
    "  \n",
    "<div class=\"alert alert-warning\">\n",
    "  If I have some (optional) suggestions, or questions to think about, or general comments.\n",
    "</div>\n",
    "  \n",
    "<div class=\"alert alert-danger\">\n",
    "  If a section requires some corrections. Work can't be accepted with red comments.\n",
    "</div>\n",
    "  \n",
    "Please don't remove my comments, as it will make further review iterations much harder for me.\n",
    "  \n",
    "Feel free to reply to my comments or ask questions using the following template:\n",
    "  \n",
    "<div class=\"alert alert-info\">\n",
    "  For your comments and questions.\n",
    "</div>\n",
    "  \n",
    "First of all, thank you for turning in the project! You did an excellent job! I especially liked how thoroughly you cleaned the data! The project is accepted. Keep up the good work on the next sprint!"
   ]
  },
  {
   "cell_type": "markdown",
   "metadata": {
    "toc": true
   },
   "source": [
    "<h1>Table of Contents<span class=\"tocSkip\"></span></h1>\n",
    "<div class=\"toc\"><ul class=\"toc-item\"><li><span><a href=\"#Goal\" data-toc-modified-id=\"Goal-1\"><span class=\"toc-item-num\">1&nbsp;&nbsp;</span>Goal</a></span></li><li><span><a href=\"#Data-description\" data-toc-modified-id=\"Data-description-2\"><span class=\"toc-item-num\">2&nbsp;&nbsp;</span>Data description</a></span></li><li><span><a href=\"#Imports\" data-toc-modified-id=\"Imports-3\"><span class=\"toc-item-num\">3&nbsp;&nbsp;</span>Imports</a></span></li><li><span><a href=\"#Input-data\" data-toc-modified-id=\"Input-data-4\"><span class=\"toc-item-num\">4&nbsp;&nbsp;</span>Input data</a></span></li><li><span><a href=\"#Descriptive-statistics\" data-toc-modified-id=\"Descriptive-statistics-5\"><span class=\"toc-item-num\">5&nbsp;&nbsp;</span>Descriptive statistics</a></span></li><li><span><a href=\"#Data-preprocessing\" data-toc-modified-id=\"Data-preprocessing-6\"><span class=\"toc-item-num\">6&nbsp;&nbsp;</span>Data preprocessing</a></span><ul class=\"toc-item\"><li><span><a href=\"#Column-names\" data-toc-modified-id=\"Column-names-6.1\"><span class=\"toc-item-num\">6.1&nbsp;&nbsp;</span>Column names</a></span></li><li><span><a href=\"#Data-type-change\" data-toc-modified-id=\"Data-type-change-6.2\"><span class=\"toc-item-num\">6.2&nbsp;&nbsp;</span>Data type change</a></span></li><li><span><a href=\"#Missing-values\" data-toc-modified-id=\"Missing-values-6.3\"><span class=\"toc-item-num\">6.3&nbsp;&nbsp;</span>Missing values</a></span><ul class=\"toc-item\"><li><span><a href=\"#Not_repaired\" data-toc-modified-id=\"Not_repaired-6.3.1\"><span class=\"toc-item-num\">6.3.1&nbsp;&nbsp;</span>Not_repaired</a></span></li><li><span><a href=\"#Model,-vehicle_type,-fuel_type\" data-toc-modified-id=\"Model,-vehicle_type,-fuel_type-6.3.2\"><span class=\"toc-item-num\">6.3.2&nbsp;&nbsp;</span>Model, vehicle_type, fuel_type</a></span></li><li><span><a href=\"#Gearbox\" data-toc-modified-id=\"Gearbox-6.3.3\"><span class=\"toc-item-num\">6.3.3&nbsp;&nbsp;</span>Gearbox</a></span></li></ul></li><li><span><a href=\"#Duplicates\" data-toc-modified-id=\"Duplicates-6.4\"><span class=\"toc-item-num\">6.4&nbsp;&nbsp;</span>Duplicates</a></span></li></ul></li><li><span><a href=\"#EDA\" data-toc-modified-id=\"EDA-7\"><span class=\"toc-item-num\">7&nbsp;&nbsp;</span>EDA</a></span><ul class=\"toc-item\"><li><span><a href=\"#Outliers\" data-toc-modified-id=\"Outliers-7.1\"><span class=\"toc-item-num\">7.1&nbsp;&nbsp;</span>Outliers</a></span><ul class=\"toc-item\"><li><span><a href=\"#Registration_year\" data-toc-modified-id=\"Registration_year-7.1.1\"><span class=\"toc-item-num\">7.1.1&nbsp;&nbsp;</span>Registration_year</a></span></li><li><span><a href=\"#Price\" data-toc-modified-id=\"Price-7.1.2\"><span class=\"toc-item-num\">7.1.2&nbsp;&nbsp;</span>Price</a></span></li><li><span><a href=\"#Mileage\" data-toc-modified-id=\"Mileage-7.1.3\"><span class=\"toc-item-num\">7.1.3&nbsp;&nbsp;</span>Mileage</a></span></li><li><span><a href=\"#Power\" data-toc-modified-id=\"Power-7.1.4\"><span class=\"toc-item-num\">7.1.4&nbsp;&nbsp;</span>Power</a></span></li></ul></li><li><span><a href=\"#Car-age-calculation\" data-toc-modified-id=\"Car-age-calculation-7.2\"><span class=\"toc-item-num\">7.2&nbsp;&nbsp;</span>Car age calculation</a></span><ul class=\"toc-item\"><li><span><a href=\"#Postal_code\" data-toc-modified-id=\"Postal_code-7.2.1\"><span class=\"toc-item-num\">7.2.1&nbsp;&nbsp;</span>Postal_code</a></span></li></ul></li><li><span><a href=\"#Drop-columns\" data-toc-modified-id=\"Drop-columns-7.3\"><span class=\"toc-item-num\">7.3&nbsp;&nbsp;</span>Drop columns</a></span></li></ul></li><li><span><a href=\"#Encoding-of-categorical-variables\" data-toc-modified-id=\"Encoding-of-categorical-variables-8\"><span class=\"toc-item-num\">8&nbsp;&nbsp;</span>Encoding of categorical variables</a></span></li><li><span><a href=\"#Splitting-data-into-train,-validation-and-test-sets\" data-toc-modified-id=\"Splitting-data-into-train,-validation-and-test-sets-9\"><span class=\"toc-item-num\">9&nbsp;&nbsp;</span>Splitting data into train, validation and test sets</a></span></li><li><span><a href=\"#Standard-scaling\" data-toc-modified-id=\"Standard-scaling-10\"><span class=\"toc-item-num\">10&nbsp;&nbsp;</span>Standard scaling</a></span></li><li><span><a href=\"#Model-selection\" data-toc-modified-id=\"Model-selection-11\"><span class=\"toc-item-num\">11&nbsp;&nbsp;</span>Model selection</a></span><ul class=\"toc-item\"><li><span><a href=\"#Linear-regression\" data-toc-modified-id=\"Linear-regression-11.1\"><span class=\"toc-item-num\">11.1&nbsp;&nbsp;</span>Linear regression</a></span></li><li><span><a href=\"#Random-Forest\" data-toc-modified-id=\"Random-Forest-11.2\"><span class=\"toc-item-num\">11.2&nbsp;&nbsp;</span>Random Forest</a></span><ul class=\"toc-item\"><li><span><a href=\"#Base-model\" data-toc-modified-id=\"Base-model-11.2.1\"><span class=\"toc-item-num\">11.2.1&nbsp;&nbsp;</span>Base model</a></span></li><li><span><a href=\"#Hyperparameters-tuning\" data-toc-modified-id=\"Hyperparameters-tuning-11.2.2\"><span class=\"toc-item-num\">11.2.2&nbsp;&nbsp;</span>Hyperparameters tuning</a></span></li></ul></li><li><span><a href=\"#XGBoost\" data-toc-modified-id=\"XGBoost-11.3\"><span class=\"toc-item-num\">11.3&nbsp;&nbsp;</span>XGBoost</a></span><ul class=\"toc-item\"><li><span><a href=\"#Hyperparameters-tuning\" data-toc-modified-id=\"Hyperparameters-tuning-11.3.1\"><span class=\"toc-item-num\">11.3.1&nbsp;&nbsp;</span>Hyperparameters tuning</a></span></li></ul></li><li><span><a href=\"#LightGBM\" data-toc-modified-id=\"LightGBM-11.4\"><span class=\"toc-item-num\">11.4&nbsp;&nbsp;</span>LightGBM</a></span><ul class=\"toc-item\"><li><span><a href=\"#Hyperparameters-tuning\" data-toc-modified-id=\"Hyperparameters-tuning-11.4.1\"><span class=\"toc-item-num\">11.4.1&nbsp;&nbsp;</span>Hyperparameters tuning</a></span></li></ul></li><li><span><a href=\"#CatBoost\" data-toc-modified-id=\"CatBoost-11.5\"><span class=\"toc-item-num\">11.5&nbsp;&nbsp;</span>CatBoost</a></span><ul class=\"toc-item\"><li><span><a href=\"#Hyperparameters-tuning\" data-toc-modified-id=\"Hyperparameters-tuning-11.5.1\"><span class=\"toc-item-num\">11.5.1&nbsp;&nbsp;</span>Hyperparameters tuning</a></span></li></ul></li><li><span><a href=\"#Results\" data-toc-modified-id=\"Results-11.6\"><span class=\"toc-item-num\">11.6&nbsp;&nbsp;</span>Results</a></span></li></ul></li><li><span><a href=\"#Retrain-the-best-tuned-model\" data-toc-modified-id=\"Retrain-the-best-tuned-model-12\"><span class=\"toc-item-num\">12&nbsp;&nbsp;</span>Retrain the best tuned model</a></span></li><li><span><a href=\"#Sanity-check\" data-toc-modified-id=\"Sanity-check-13\"><span class=\"toc-item-num\">13&nbsp;&nbsp;</span>Sanity check</a></span></li></ul></div>"
   ]
  },
  {
   "cell_type": "markdown",
   "metadata": {},
   "source": [
    "# Numerical Methods Project\n",
    "# *gradient boosting*"
   ]
  },
  {
   "cell_type": "markdown",
   "metadata": {},
   "source": [
    "## Goal\n",
    "\n",
    "Develop a model for Rusty Bargain used car sales service to determine the market value of a car based on historical data (technical specifications, trim versions, and prices).\n",
    "\n",
    "Key metrics:\n",
    "\n",
    "- the quality of the prediction\n",
    "- the speed of the prediction\n",
    "- the time required for training"
   ]
  },
  {
   "cell_type": "markdown",
   "metadata": {},
   "source": [
    "## Data description\n",
    "\n",
    "**Features**\n",
    "\n",
    "- *DateCrawled* — date profile was downloaded from the database\n",
    "- *VehicleType* — vehicle body type\n",
    "- *RegistrationYear* — vehicle registration year\n",
    "- *Gearbox* — gearbox type\n",
    "- *Power* — power (hp)\n",
    "- *Model* — vehicle model\n",
    "- Mileage — mileage (measured in km due to dataset's regional specifics)\n",
    "- *RegistrationMonth* — vehicle registration month\n",
    "- *FuelType* — fuel type\n",
    "- *Brand* — vehicle brand\n",
    "- *NotRepaired* — vehicle repaired or not\n",
    "- *DateCreated* — date of profile creation\n",
    "- *NumberOfPictures* — number of vehicle pictures\n",
    "- *PostalCode* — postal code of profile owner (user)\n",
    "- *LastSeen* — date of the last activity of the user\n",
    "\n",
    "**Target**\n",
    "\n",
    "*Price* — price (Euro)"
   ]
  },
  {
   "cell_type": "markdown",
   "metadata": {},
   "source": [
    "## Imports"
   ]
  },
  {
   "cell_type": "code",
   "execution_count": 1,
   "metadata": {},
   "outputs": [
    {
     "name": "stdout",
     "output_type": "stream",
     "text": [
      "Setup Complete\n"
     ]
    }
   ],
   "source": [
    "import pandas as pd\n",
    "import matplotlib\n",
    "import numpy as np\n",
    "from numpy import *\n",
    "import re\n",
    "from time import time\n",
    "\n",
    "from sklearn.linear_model import LinearRegression\n",
    "from sklearn.ensemble import RandomForestRegressor\n",
    "from catboost import CatBoostRegressor\n",
    "#from lightgbm import LGBMRegressor\n",
    "from xgboost import XGBRegressor\n",
    "\n",
    "from sklearn.model_selection import train_test_split\n",
    "from sklearn.preprocessing import StandardScaler as ss\n",
    "from sklearn.metrics import mean_squared_error\n",
    "\n",
    "import matplotlib.pyplot as plt\n",
    "%matplotlib inline\n",
    "\n",
    "import sys\n",
    "import warnings\n",
    "if not sys.warnoptions:\n",
    "       warnings.simplefilter(\"ignore\")\n",
    "\n",
    "pd.set_option('display.max_rows', None, 'display.max_columns', None)\n",
    "\n",
    "print(\"Setup Complete\")"
   ]
  },
  {
   "cell_type": "markdown",
   "metadata": {},
   "source": [
    "## Input data"
   ]
  },
  {
   "cell_type": "code",
   "execution_count": 2,
   "metadata": {},
   "outputs": [],
   "source": [
    "try:\n",
    "    df = pd.read_csv('https://code.s3.yandex.net/datasets/car_data.csv')\n",
    "    \n",
    "except:\n",
    "    df = pd.read_csv('/datasets/car_data.csv')"
   ]
  },
  {
   "cell_type": "markdown",
   "metadata": {},
   "source": [
    "## Descriptive statistics"
   ]
  },
  {
   "cell_type": "code",
   "execution_count": 3,
   "metadata": {},
   "outputs": [
    {
     "data": {
      "text/html": [
       "<div>\n",
       "<style scoped>\n",
       "    .dataframe tbody tr th:only-of-type {\n",
       "        vertical-align: middle;\n",
       "    }\n",
       "\n",
       "    .dataframe tbody tr th {\n",
       "        vertical-align: top;\n",
       "    }\n",
       "\n",
       "    .dataframe thead th {\n",
       "        text-align: right;\n",
       "    }\n",
       "</style>\n",
       "<table border=\"1\" class=\"dataframe\">\n",
       "  <thead>\n",
       "    <tr style=\"text-align: right;\">\n",
       "      <th></th>\n",
       "      <th>DateCrawled</th>\n",
       "      <th>Price</th>\n",
       "      <th>VehicleType</th>\n",
       "      <th>RegistrationYear</th>\n",
       "      <th>Gearbox</th>\n",
       "      <th>Power</th>\n",
       "      <th>Model</th>\n",
       "      <th>Mileage</th>\n",
       "      <th>RegistrationMonth</th>\n",
       "      <th>FuelType</th>\n",
       "      <th>Brand</th>\n",
       "      <th>NotRepaired</th>\n",
       "      <th>DateCreated</th>\n",
       "      <th>NumberOfPictures</th>\n",
       "      <th>PostalCode</th>\n",
       "      <th>LastSeen</th>\n",
       "    </tr>\n",
       "  </thead>\n",
       "  <tbody>\n",
       "    <tr>\n",
       "      <th>0</th>\n",
       "      <td>24/03/2016 11:52</td>\n",
       "      <td>480</td>\n",
       "      <td>NaN</td>\n",
       "      <td>1993</td>\n",
       "      <td>manual</td>\n",
       "      <td>0</td>\n",
       "      <td>golf</td>\n",
       "      <td>150000</td>\n",
       "      <td>0</td>\n",
       "      <td>petrol</td>\n",
       "      <td>volkswagen</td>\n",
       "      <td>NaN</td>\n",
       "      <td>24/03/2016 00:00</td>\n",
       "      <td>0</td>\n",
       "      <td>70435</td>\n",
       "      <td>07/04/2016 03:16</td>\n",
       "    </tr>\n",
       "    <tr>\n",
       "      <th>1</th>\n",
       "      <td>24/03/2016 10:58</td>\n",
       "      <td>18300</td>\n",
       "      <td>coupe</td>\n",
       "      <td>2011</td>\n",
       "      <td>manual</td>\n",
       "      <td>190</td>\n",
       "      <td>NaN</td>\n",
       "      <td>125000</td>\n",
       "      <td>5</td>\n",
       "      <td>gasoline</td>\n",
       "      <td>audi</td>\n",
       "      <td>yes</td>\n",
       "      <td>24/03/2016 00:00</td>\n",
       "      <td>0</td>\n",
       "      <td>66954</td>\n",
       "      <td>07/04/2016 01:46</td>\n",
       "    </tr>\n",
       "    <tr>\n",
       "      <th>2</th>\n",
       "      <td>14/03/2016 12:52</td>\n",
       "      <td>9800</td>\n",
       "      <td>suv</td>\n",
       "      <td>2004</td>\n",
       "      <td>auto</td>\n",
       "      <td>163</td>\n",
       "      <td>grand</td>\n",
       "      <td>125000</td>\n",
       "      <td>8</td>\n",
       "      <td>gasoline</td>\n",
       "      <td>jeep</td>\n",
       "      <td>NaN</td>\n",
       "      <td>14/03/2016 00:00</td>\n",
       "      <td>0</td>\n",
       "      <td>90480</td>\n",
       "      <td>05/04/2016 12:47</td>\n",
       "    </tr>\n",
       "    <tr>\n",
       "      <th>3</th>\n",
       "      <td>17/03/2016 16:54</td>\n",
       "      <td>1500</td>\n",
       "      <td>small</td>\n",
       "      <td>2001</td>\n",
       "      <td>manual</td>\n",
       "      <td>75</td>\n",
       "      <td>golf</td>\n",
       "      <td>150000</td>\n",
       "      <td>6</td>\n",
       "      <td>petrol</td>\n",
       "      <td>volkswagen</td>\n",
       "      <td>no</td>\n",
       "      <td>17/03/2016 00:00</td>\n",
       "      <td>0</td>\n",
       "      <td>91074</td>\n",
       "      <td>17/03/2016 17:40</td>\n",
       "    </tr>\n",
       "    <tr>\n",
       "      <th>4</th>\n",
       "      <td>31/03/2016 17:25</td>\n",
       "      <td>3600</td>\n",
       "      <td>small</td>\n",
       "      <td>2008</td>\n",
       "      <td>manual</td>\n",
       "      <td>69</td>\n",
       "      <td>fabia</td>\n",
       "      <td>90000</td>\n",
       "      <td>7</td>\n",
       "      <td>gasoline</td>\n",
       "      <td>skoda</td>\n",
       "      <td>no</td>\n",
       "      <td>31/03/2016 00:00</td>\n",
       "      <td>0</td>\n",
       "      <td>60437</td>\n",
       "      <td>06/04/2016 10:17</td>\n",
       "    </tr>\n",
       "  </tbody>\n",
       "</table>\n",
       "</div>"
      ],
      "text/plain": [
       "        DateCrawled  Price VehicleType  RegistrationYear Gearbox  Power  \\\n",
       "0  24/03/2016 11:52    480         NaN              1993  manual      0   \n",
       "1  24/03/2016 10:58  18300       coupe              2011  manual    190   \n",
       "2  14/03/2016 12:52   9800         suv              2004    auto    163   \n",
       "3  17/03/2016 16:54   1500       small              2001  manual     75   \n",
       "4  31/03/2016 17:25   3600       small              2008  manual     69   \n",
       "\n",
       "   Model  Mileage  RegistrationMonth  FuelType       Brand NotRepaired  \\\n",
       "0   golf   150000                  0    petrol  volkswagen         NaN   \n",
       "1    NaN   125000                  5  gasoline        audi         yes   \n",
       "2  grand   125000                  8  gasoline        jeep         NaN   \n",
       "3   golf   150000                  6    petrol  volkswagen          no   \n",
       "4  fabia    90000                  7  gasoline       skoda          no   \n",
       "\n",
       "        DateCreated  NumberOfPictures  PostalCode          LastSeen  \n",
       "0  24/03/2016 00:00                 0       70435  07/04/2016 03:16  \n",
       "1  24/03/2016 00:00                 0       66954  07/04/2016 01:46  \n",
       "2  14/03/2016 00:00                 0       90480  05/04/2016 12:47  \n",
       "3  17/03/2016 00:00                 0       91074  17/03/2016 17:40  \n",
       "4  31/03/2016 00:00                 0       60437  06/04/2016 10:17  "
      ]
     },
     "execution_count": 3,
     "metadata": {},
     "output_type": "execute_result"
    }
   ],
   "source": [
    "df.head()"
   ]
  },
  {
   "cell_type": "code",
   "execution_count": 4,
   "metadata": {},
   "outputs": [
    {
     "name": "stdout",
     "output_type": "stream",
     "text": [
      "<class 'pandas.core.frame.DataFrame'>\n",
      "RangeIndex: 354369 entries, 0 to 354368\n",
      "Data columns (total 16 columns):\n",
      " #   Column             Non-Null Count   Dtype \n",
      "---  ------             --------------   ----- \n",
      " 0   DateCrawled        354369 non-null  object\n",
      " 1   Price              354369 non-null  int64 \n",
      " 2   VehicleType        316879 non-null  object\n",
      " 3   RegistrationYear   354369 non-null  int64 \n",
      " 4   Gearbox            334536 non-null  object\n",
      " 5   Power              354369 non-null  int64 \n",
      " 6   Model              334664 non-null  object\n",
      " 7   Mileage            354369 non-null  int64 \n",
      " 8   RegistrationMonth  354369 non-null  int64 \n",
      " 9   FuelType           321474 non-null  object\n",
      " 10  Brand              354369 non-null  object\n",
      " 11  NotRepaired        283215 non-null  object\n",
      " 12  DateCreated        354369 non-null  object\n",
      " 13  NumberOfPictures   354369 non-null  int64 \n",
      " 14  PostalCode         354369 non-null  int64 \n",
      " 15  LastSeen           354369 non-null  object\n",
      "dtypes: int64(7), object(9)\n",
      "memory usage: 43.3+ MB\n"
     ]
    }
   ],
   "source": [
    "df.info()"
   ]
  },
  {
   "cell_type": "markdown",
   "metadata": {},
   "source": [
    "Notes for preprocessing:\n",
    "- There are more than 35k observations with 15 features (6 categorical, 9 numeric) and 1 target variables;\n",
    "- Convert column names to lower case;\n",
    "- Fill in missing values;\n",
    "- Check for duplicates;\n",
    "- Convert 3 date features to datetime format;\n",
    "- Encode 6 categorical features (needed for some models);\n",
    "- `DateCrawled` and `LastSeen` can be removed as not related to price;\n",
    "- Calculate the age of a car at the moment of price checking as a difference between `RegistrationYear` and `DateCreated` year;\n",
    "- The target is numeric, it's a regression task."
   ]
  },
  {
   "cell_type": "code",
   "execution_count": 5,
   "metadata": {},
   "outputs": [
    {
     "data": {
      "text/html": [
       "<div>\n",
       "<style scoped>\n",
       "    .dataframe tbody tr th:only-of-type {\n",
       "        vertical-align: middle;\n",
       "    }\n",
       "\n",
       "    .dataframe tbody tr th {\n",
       "        vertical-align: top;\n",
       "    }\n",
       "\n",
       "    .dataframe thead th {\n",
       "        text-align: right;\n",
       "    }\n",
       "</style>\n",
       "<table border=\"1\" class=\"dataframe\">\n",
       "  <thead>\n",
       "    <tr style=\"text-align: right;\">\n",
       "      <th></th>\n",
       "      <th>Price</th>\n",
       "      <th>RegistrationYear</th>\n",
       "      <th>Power</th>\n",
       "      <th>Mileage</th>\n",
       "      <th>RegistrationMonth</th>\n",
       "      <th>NumberOfPictures</th>\n",
       "      <th>PostalCode</th>\n",
       "    </tr>\n",
       "  </thead>\n",
       "  <tbody>\n",
       "    <tr>\n",
       "      <th>count</th>\n",
       "      <td>354369.000000</td>\n",
       "      <td>354369.000000</td>\n",
       "      <td>354369.000000</td>\n",
       "      <td>354369.000000</td>\n",
       "      <td>354369.000000</td>\n",
       "      <td>354369.0</td>\n",
       "      <td>354369.000000</td>\n",
       "    </tr>\n",
       "    <tr>\n",
       "      <th>mean</th>\n",
       "      <td>4416.656776</td>\n",
       "      <td>2004.234448</td>\n",
       "      <td>110.094337</td>\n",
       "      <td>128211.172535</td>\n",
       "      <td>5.714645</td>\n",
       "      <td>0.0</td>\n",
       "      <td>50508.689087</td>\n",
       "    </tr>\n",
       "    <tr>\n",
       "      <th>std</th>\n",
       "      <td>4514.158514</td>\n",
       "      <td>90.227958</td>\n",
       "      <td>189.850405</td>\n",
       "      <td>37905.341530</td>\n",
       "      <td>3.726421</td>\n",
       "      <td>0.0</td>\n",
       "      <td>25783.096248</td>\n",
       "    </tr>\n",
       "    <tr>\n",
       "      <th>min</th>\n",
       "      <td>0.000000</td>\n",
       "      <td>1000.000000</td>\n",
       "      <td>0.000000</td>\n",
       "      <td>5000.000000</td>\n",
       "      <td>0.000000</td>\n",
       "      <td>0.0</td>\n",
       "      <td>1067.000000</td>\n",
       "    </tr>\n",
       "    <tr>\n",
       "      <th>25%</th>\n",
       "      <td>1050.000000</td>\n",
       "      <td>1999.000000</td>\n",
       "      <td>69.000000</td>\n",
       "      <td>125000.000000</td>\n",
       "      <td>3.000000</td>\n",
       "      <td>0.0</td>\n",
       "      <td>30165.000000</td>\n",
       "    </tr>\n",
       "    <tr>\n",
       "      <th>50%</th>\n",
       "      <td>2700.000000</td>\n",
       "      <td>2003.000000</td>\n",
       "      <td>105.000000</td>\n",
       "      <td>150000.000000</td>\n",
       "      <td>6.000000</td>\n",
       "      <td>0.0</td>\n",
       "      <td>49413.000000</td>\n",
       "    </tr>\n",
       "    <tr>\n",
       "      <th>75%</th>\n",
       "      <td>6400.000000</td>\n",
       "      <td>2008.000000</td>\n",
       "      <td>143.000000</td>\n",
       "      <td>150000.000000</td>\n",
       "      <td>9.000000</td>\n",
       "      <td>0.0</td>\n",
       "      <td>71083.000000</td>\n",
       "    </tr>\n",
       "    <tr>\n",
       "      <th>max</th>\n",
       "      <td>20000.000000</td>\n",
       "      <td>9999.000000</td>\n",
       "      <td>20000.000000</td>\n",
       "      <td>150000.000000</td>\n",
       "      <td>12.000000</td>\n",
       "      <td>0.0</td>\n",
       "      <td>99998.000000</td>\n",
       "    </tr>\n",
       "  </tbody>\n",
       "</table>\n",
       "</div>"
      ],
      "text/plain": [
       "               Price  RegistrationYear          Power        Mileage  \\\n",
       "count  354369.000000     354369.000000  354369.000000  354369.000000   \n",
       "mean     4416.656776       2004.234448     110.094337  128211.172535   \n",
       "std      4514.158514         90.227958     189.850405   37905.341530   \n",
       "min         0.000000       1000.000000       0.000000    5000.000000   \n",
       "25%      1050.000000       1999.000000      69.000000  125000.000000   \n",
       "50%      2700.000000       2003.000000     105.000000  150000.000000   \n",
       "75%      6400.000000       2008.000000     143.000000  150000.000000   \n",
       "max     20000.000000       9999.000000   20000.000000  150000.000000   \n",
       "\n",
       "       RegistrationMonth  NumberOfPictures     PostalCode  \n",
       "count      354369.000000          354369.0  354369.000000  \n",
       "mean            5.714645               0.0   50508.689087  \n",
       "std             3.726421               0.0   25783.096248  \n",
       "min             0.000000               0.0    1067.000000  \n",
       "25%             3.000000               0.0   30165.000000  \n",
       "50%             6.000000               0.0   49413.000000  \n",
       "75%             9.000000               0.0   71083.000000  \n",
       "max            12.000000               0.0   99998.000000  "
      ]
     },
     "execution_count": 5,
     "metadata": {},
     "output_type": "execute_result"
    }
   ],
   "source": [
    "df.describe()"
   ]
  },
  {
   "cell_type": "code",
   "execution_count": 6,
   "metadata": {},
   "outputs": [
    {
     "data": {
      "image/png": "[encoded data removed]",
      "text/plain": [
       "<Figure size 432x288 with 1 Axes>"
      ]
     },
     "metadata": {
      "needs_background": "light"
     },
     "output_type": "display_data"
    }
   ],
   "source": [
    "df['Price'].hist()\n",
    "plt.title('Car price distribution');"
   ]
  },
  {
   "cell_type": "markdown",
   "metadata": {},
   "source": [
    "Notes for preprocessing:\n",
    "- Check `RegistrationYear` as the min value is 1000 and max is 9999 -> outliers;\n",
    "- Check 0 price observations. The target distribution is positively skewed;\n",
    "- Check `Mileage` column for outliers;\n",
    "- Check `Power` feature as max value is too big and min is 0 -> outliers;\n",
    "- `NumberOfPictures` feature has only 0 values -> can be removed as non-informative."
   ]
  },
  {
   "cell_type": "markdown",
   "metadata": {},
   "source": [
    "<div class=\"alert alert-success\">\n",
    "<b>Reviewer's comment</b>\n",
    "\n",
    "The data was loaded and inspected, and you already made some great observations!\n",
    "\n",
    "</div>"
   ]
  },
  {
   "cell_type": "markdown",
   "metadata": {},
   "source": [
    "## Data preprocessing"
   ]
  },
  {
   "cell_type": "markdown",
   "metadata": {},
   "source": [
    "### Column names"
   ]
  },
  {
   "cell_type": "code",
   "execution_count": 7,
   "metadata": {},
   "outputs": [],
   "source": [
    "columns = []\n",
    "for name in df.columns.values:\n",
    "    name = re.sub('([A-Z])', r' \\1', name).lower().replace(' ', '_')[1:]\n",
    "    columns.append(name)"
   ]
  },
  {
   "cell_type": "code",
   "execution_count": 8,
   "metadata": {},
   "outputs": [],
   "source": [
    "df.columns = columns"
   ]
  },
  {
   "cell_type": "code",
   "execution_count": 9,
   "metadata": {},
   "outputs": [
    {
     "data": {
      "text/html": [
       "<div>\n",
       "<style scoped>\n",
       "    .dataframe tbody tr th:only-of-type {\n",
       "        vertical-align: middle;\n",
       "    }\n",
       "\n",
       "    .dataframe tbody tr th {\n",
       "        vertical-align: top;\n",
       "    }\n",
       "\n",
       "    .dataframe thead th {\n",
       "        text-align: right;\n",
       "    }\n",
       "</style>\n",
       "<table border=\"1\" class=\"dataframe\">\n",
       "  <thead>\n",
       "    <tr style=\"text-align: right;\">\n",
       "      <th></th>\n",
       "      <th>date_crawled</th>\n",
       "      <th>price</th>\n",
       "      <th>vehicle_type</th>\n",
       "      <th>registration_year</th>\n",
       "      <th>gearbox</th>\n",
       "      <th>power</th>\n",
       "      <th>model</th>\n",
       "      <th>mileage</th>\n",
       "      <th>registration_month</th>\n",
       "      <th>fuel_type</th>\n",
       "      <th>brand</th>\n",
       "      <th>not_repaired</th>\n",
       "      <th>date_created</th>\n",
       "      <th>number_of_pictures</th>\n",
       "      <th>postal_code</th>\n",
       "      <th>last_seen</th>\n",
       "    </tr>\n",
       "  </thead>\n",
       "  <tbody>\n",
       "    <tr>\n",
       "      <th>0</th>\n",
       "      <td>24/03/2016 11:52</td>\n",
       "      <td>480</td>\n",
       "      <td>NaN</td>\n",
       "      <td>1993</td>\n",
       "      <td>manual</td>\n",
       "      <td>0</td>\n",
       "      <td>golf</td>\n",
       "      <td>150000</td>\n",
       "      <td>0</td>\n",
       "      <td>petrol</td>\n",
       "      <td>volkswagen</td>\n",
       "      <td>NaN</td>\n",
       "      <td>24/03/2016 00:00</td>\n",
       "      <td>0</td>\n",
       "      <td>70435</td>\n",
       "      <td>07/04/2016 03:16</td>\n",
       "    </tr>\n",
       "    <tr>\n",
       "      <th>1</th>\n",
       "      <td>24/03/2016 10:58</td>\n",
       "      <td>18300</td>\n",
       "      <td>coupe</td>\n",
       "      <td>2011</td>\n",
       "      <td>manual</td>\n",
       "      <td>190</td>\n",
       "      <td>NaN</td>\n",
       "      <td>125000</td>\n",
       "      <td>5</td>\n",
       "      <td>gasoline</td>\n",
       "      <td>audi</td>\n",
       "      <td>yes</td>\n",
       "      <td>24/03/2016 00:00</td>\n",
       "      <td>0</td>\n",
       "      <td>66954</td>\n",
       "      <td>07/04/2016 01:46</td>\n",
       "    </tr>\n",
       "    <tr>\n",
       "      <th>2</th>\n",
       "      <td>14/03/2016 12:52</td>\n",
       "      <td>9800</td>\n",
       "      <td>suv</td>\n",
       "      <td>2004</td>\n",
       "      <td>auto</td>\n",
       "      <td>163</td>\n",
       "      <td>grand</td>\n",
       "      <td>125000</td>\n",
       "      <td>8</td>\n",
       "      <td>gasoline</td>\n",
       "      <td>jeep</td>\n",
       "      <td>NaN</td>\n",
       "      <td>14/03/2016 00:00</td>\n",
       "      <td>0</td>\n",
       "      <td>90480</td>\n",
       "      <td>05/04/2016 12:47</td>\n",
       "    </tr>\n",
       "  </tbody>\n",
       "</table>\n",
       "</div>"
      ],
      "text/plain": [
       "       date_crawled  price vehicle_type  registration_year gearbox  power  \\\n",
       "0  24/03/2016 11:52    480          NaN               1993  manual      0   \n",
       "1  24/03/2016 10:58  18300        coupe               2011  manual    190   \n",
       "2  14/03/2016 12:52   9800          suv               2004    auto    163   \n",
       "\n",
       "   model  mileage  registration_month fuel_type       brand not_repaired  \\\n",
       "0   golf   150000                   0    petrol  volkswagen          NaN   \n",
       "1    NaN   125000                   5  gasoline        audi          yes   \n",
       "2  grand   125000                   8  gasoline        jeep          NaN   \n",
       "\n",
       "       date_created  number_of_pictures  postal_code         last_seen  \n",
       "0  24/03/2016 00:00                   0        70435  07/04/2016 03:16  \n",
       "1  24/03/2016 00:00                   0        66954  07/04/2016 01:46  \n",
       "2  14/03/2016 00:00                   0        90480  05/04/2016 12:47  "
      ]
     },
     "execution_count": 9,
     "metadata": {},
     "output_type": "execute_result"
    }
   ],
   "source": [
    "df.head(3)"
   ]
  },
  {
   "cell_type": "markdown",
   "metadata": {},
   "source": [
    "### Data type change\n",
    "As mentioned above, let's convert all the date columns to the datetime type."
   ]
  },
  {
   "cell_type": "code",
   "execution_count": 10,
   "metadata": {},
   "outputs": [],
   "source": [
    "df['date_created'] = pd.to_datetime(df['date_created'])"
   ]
  },
  {
   "cell_type": "markdown",
   "metadata": {},
   "source": [
    "### Missing values"
   ]
  },
  {
   "cell_type": "code",
   "execution_count": 11,
   "metadata": {},
   "outputs": [
    {
     "data": {
      "text/plain": [
       "date_crawled          0.000000\n",
       "price                 0.000000\n",
       "vehicle_type          0.105794\n",
       "registration_year     0.000000\n",
       "gearbox               0.055967\n",
       "power                 0.000000\n",
       "model                 0.055606\n",
       "mileage               0.000000\n",
       "registration_month    0.000000\n",
       "fuel_type             0.092827\n",
       "brand                 0.000000\n",
       "not_repaired          0.200791\n",
       "date_created          0.000000\n",
       "number_of_pictures    0.000000\n",
       "postal_code           0.000000\n",
       "last_seen             0.000000\n",
       "dtype: float64"
      ]
     },
     "execution_count": 11,
     "metadata": {},
     "output_type": "execute_result"
    }
   ],
   "source": [
    "df.isnull().sum()/df.shape[0]"
   ]
  },
  {
   "cell_type": "markdown",
   "metadata": {},
   "source": [
    "5 features have missing values, let's start with the one that has the most significant number of them - over 20%.\n",
    "\n",
    "#### Not_repaired"
   ]
  },
  {
   "cell_type": "code",
   "execution_count": 12,
   "metadata": {},
   "outputs": [
    {
     "data": {
      "text/plain": [
       "no     247161\n",
       "yes     36054\n",
       "Name: not_repaired, dtype: int64"
      ]
     },
     "execution_count": 12,
     "metadata": {},
     "output_type": "execute_result"
    }
   ],
   "source": [
    "df['not_repaired'].value_counts()"
   ]
  },
  {
   "cell_type": "markdown",
   "metadata": {},
   "source": [
    "Let's assume that a missing value in this column means not repaired (a person probably just forgot to fill this column). Besides, it's the majority group, so this way we will not influence the ratio much."
   ]
  },
  {
   "cell_type": "code",
   "execution_count": 13,
   "metadata": {},
   "outputs": [],
   "source": [
    "df['not_repaired'].fillna('no', inplace=True)"
   ]
  },
  {
   "cell_type": "markdown",
   "metadata": {},
   "source": [
    "#### Model, vehicle_type, fuel_type\n",
    "\n",
    "We will replace all the missing values in these columns with the 'n/a' string."
   ]
  },
  {
   "cell_type": "code",
   "execution_count": 14,
   "metadata": {},
   "outputs": [],
   "source": [
    "for col in ['model','vehicle_type','fuel_type']:\n",
    "    df[col].fillna('n/a', inplace=True)    "
   ]
  },
  {
   "cell_type": "markdown",
   "metadata": {},
   "source": [
    "#### Gearbox\n",
    "\n",
    "As there are only 2 possible values in this column, let's fill the missing values with the majority group."
   ]
  },
  {
   "cell_type": "code",
   "execution_count": 15,
   "metadata": {},
   "outputs": [
    {
     "data": {
      "text/plain": [
       "manual    268251\n",
       "auto       66285\n",
       "Name: gearbox, dtype: int64"
      ]
     },
     "execution_count": 15,
     "metadata": {},
     "output_type": "execute_result"
    }
   ],
   "source": [
    "df['gearbox'].value_counts()"
   ]
  },
  {
   "cell_type": "code",
   "execution_count": 16,
   "metadata": {},
   "outputs": [],
   "source": [
    "df['gearbox'].fillna('manual', inplace=True)"
   ]
  },
  {
   "cell_type": "markdown",
   "metadata": {},
   "source": [
    "<div class=\"alert alert-success\">\n",
    "<b>Reviewer's comment</b>\n",
    "\n",
    "Missing values were dealt with reasonably.\n",
    "\n",
    "</div>"
   ]
  },
  {
   "cell_type": "markdown",
   "metadata": {},
   "source": [
    "### Duplicates\n",
    "Let's check if any rows are duplicated."
   ]
  },
  {
   "cell_type": "code",
   "execution_count": 17,
   "metadata": {},
   "outputs": [
    {
     "data": {
      "text/plain": [
       "292"
      ]
     },
     "execution_count": 17,
     "metadata": {},
     "output_type": "execute_result"
    }
   ],
   "source": [
    "df.duplicated().sum()"
   ]
  },
  {
   "cell_type": "code",
   "execution_count": 18,
   "metadata": {},
   "outputs": [],
   "source": [
    "df = df.drop_duplicates(ignore_index=True)"
   ]
  },
  {
   "cell_type": "markdown",
   "metadata": {},
   "source": [
    "<div class=\"alert alert-success\">\n",
    "<b>Reviewer's comment</b>\n",
    "\n",
    "Duplicates were dropped\n",
    "\n",
    "</div>"
   ]
  },
  {
   "cell_type": "markdown",
   "metadata": {},
   "source": [
    "## EDA\n",
    "### Outliers\n",
    "#### Registration_year"
   ]
  },
  {
   "cell_type": "code",
   "execution_count": 19,
   "metadata": {},
   "outputs": [
    {
     "data": {
      "image/png": "[encoded data removed]",
      "text/plain": [
       "<Figure size 432x288 with 1 Axes>"
      ]
     },
     "metadata": {
      "needs_background": "light"
     },
     "output_type": "display_data"
    }
   ],
   "source": [
    "df.boxplot('registration_year')\n",
    "plt.ylim(1000, 10000)\n",
    "plt.title('Registration year: box-and-whiskers plot')\n",
    "plt.xticks([1], [''])\n",
    "plt.ylabel('year');"
   ]
  },
  {
   "cell_type": "code",
   "execution_count": 20,
   "metadata": {},
   "outputs": [
    {
     "data": {
      "image/png": "[encoded data removed]",
      "text/plain": [
       "<Figure size 432x288 with 1 Axes>"
      ]
     },
     "metadata": {
      "needs_background": "light"
     },
     "output_type": "display_data"
    }
   ],
   "source": [
    "df.hist('registration_year')\n",
    "plt.title('Registration year: frequency distribution')\n",
    "plt.xlabel('year')\n",
    "plt.ylabel('number of vehicles');"
   ]
  },
  {
   "cell_type": "markdown",
   "metadata": {},
   "source": [
    "We see a lot of outliers but most observations are still around 2000. Since data is extracted in 2016, there shouldn't be any `registration_year` more than that. Let's set the lower border to be 1900. "
   ]
  },
  {
   "cell_type": "code",
   "execution_count": 21,
   "metadata": {},
   "outputs": [],
   "source": [
    "df.loc[(df['registration_year'] < 1900) | (df['registration_year'] > 2016), 'registration_year'] = np.nan"
   ]
  },
  {
   "cell_type": "code",
   "execution_count": 22,
   "metadata": {},
   "outputs": [],
   "source": [
    "df = df.dropna(subset=['registration_year'], axis=0)\n",
    "df.reset_index(drop=True, inplace=True)"
   ]
  },
  {
   "cell_type": "markdown",
   "metadata": {},
   "source": [
    "#### Price"
   ]
  },
  {
   "cell_type": "code",
   "execution_count": 23,
   "metadata": {},
   "outputs": [
    {
     "data": {
      "image/png": "[encoded data removed]",
      "text/plain": [
       "<Figure size 432x288 with 1 Axes>"
      ]
     },
     "metadata": {
      "needs_background": "light"
     },
     "output_type": "display_data"
    }
   ],
   "source": [
    "df.boxplot('price')\n",
    "plt.title('Car price: box-and-whiskers plot')\n",
    "plt.xticks([1], [''])\n",
    "plt.ylabel('price');"
   ]
  },
  {
   "cell_type": "markdown",
   "metadata": {},
   "source": [
    "Most prices are in range from around 1000 to 6000 euro. There are some higher values but the maximum price is 20000 euro and it seems reasonable. Let's check for other artifacts."
   ]
  },
  {
   "cell_type": "code",
   "execution_count": 24,
   "metadata": {},
   "outputs": [
    {
     "data": {
      "text/plain": [
       "7"
      ]
     },
     "execution_count": 24,
     "metadata": {},
     "output_type": "execute_result"
    }
   ],
   "source": [
    "len(df[df['price'] == 12345])"
   ]
  },
  {
   "cell_type": "code",
   "execution_count": 25,
   "metadata": {},
   "outputs": [
    {
     "data": {
      "text/plain": [
       "1118"
      ]
     },
     "execution_count": 25,
     "metadata": {},
     "output_type": "execute_result"
    }
   ],
   "source": [
    "len(df[df['price'] == 1])"
   ]
  },
  {
   "cell_type": "code",
   "execution_count": 26,
   "metadata": {},
   "outputs": [
    {
     "data": {
      "text/plain": [
       "10006"
      ]
     },
     "execution_count": 26,
     "metadata": {},
     "output_type": "execute_result"
    }
   ],
   "source": [
    "len(df[df['price'] == 0])"
   ]
  },
  {
   "cell_type": "markdown",
   "metadata": {},
   "source": [
    "Let's simply remove them, as the `price` column is our target variable and the above values are non-informative for our purpose."
   ]
  },
  {
   "cell_type": "code",
   "execution_count": 27,
   "metadata": {},
   "outputs": [],
   "source": [
    "df.loc[(df['price'] == 12345) | (df['price'] == 1) | (df['price'] == 0), 'price'] = np.nan"
   ]
  },
  {
   "cell_type": "code",
   "execution_count": 28,
   "metadata": {},
   "outputs": [
    {
     "data": {
      "text/plain": [
       "(328351, 16)"
      ]
     },
     "execution_count": 28,
     "metadata": {},
     "output_type": "execute_result"
    }
   ],
   "source": [
    "df = df.dropna(subset=['price'], axis=0)\n",
    "df.reset_index(drop=True, inplace=True)\n",
    "df.shape"
   ]
  },
  {
   "cell_type": "markdown",
   "metadata": {},
   "source": [
    "#### Mileage"
   ]
  },
  {
   "cell_type": "code",
   "execution_count": 29,
   "metadata": {},
   "outputs": [
    {
     "data": {
      "image/png": "[encoded data removed]",
      "text/plain": [
       "<Figure size 432x288 with 1 Axes>"
      ]
     },
     "metadata": {
      "needs_background": "light"
     },
     "output_type": "display_data"
    }
   ],
   "source": [
    "Q1 = df['mileage'].quantile(0.25)\n",
    "Q3 = df['mileage'].quantile(0.75)\n",
    "IQR = Q3 - Q1\n",
    "lower_whisker = Q1 - 1.5 * IQR\n",
    "df.boxplot('mileage')\n",
    "plt.hlines(y=lower_whisker, xmin=0.9, xmax=1.1, color='red')\n",
    "\n",
    "plt.title('Mileage: box plot with theoretical whisker')\n",
    "plt.xticks([1], [''])\n",
    "plt.ylabel('mileage');"
   ]
  },
  {
   "cell_type": "code",
   "execution_count": 30,
   "metadata": {},
   "outputs": [
    {
     "data": {
      "image/png": "[encoded data removed]",
      "text/plain": [
       "<Figure size 432x288 with 1 Axes>"
      ]
     },
     "metadata": {
      "needs_background": "light"
     },
     "output_type": "display_data"
    }
   ],
   "source": [
    "df['mileage'].hist();"
   ]
  },
  {
   "cell_type": "code",
   "execution_count": 31,
   "metadata": {},
   "outputs": [
    {
     "data": {
      "text/plain": [
       "49516"
      ]
     },
     "execution_count": 31,
     "metadata": {},
     "output_type": "execute_result"
    }
   ],
   "source": [
    "len(df[df['mileage'] < lower_whisker])"
   ]
  },
  {
   "cell_type": "markdown",
   "metadata": {},
   "source": [
    "Most observations have a high mileage value, there are some values lower than the lower whisker but we will keep them as they are not numerous and these values could possibly exist."
   ]
  },
  {
   "cell_type": "code",
   "execution_count": 32,
   "metadata": {},
   "outputs": [
    {
     "data": {
      "image/png": "[encoded data removed]",
      "text/plain": [
       "<Figure size 432x288 with 1 Axes>"
      ]
     },
     "metadata": {
      "needs_background": "light"
     },
     "output_type": "display_data"
    }
   ],
   "source": [
    "df.plot.scatter(x='mileage', y='price', alpha=.25)\n",
    "plt.title('Link between price and mileage of a vehicle');"
   ]
  },
  {
   "cell_type": "markdown",
   "metadata": {},
   "source": [
    "No clear linear connection between car price and mileage detected."
   ]
  },
  {
   "cell_type": "markdown",
   "metadata": {},
   "source": [
    "#### Power"
   ]
  },
  {
   "cell_type": "code",
   "execution_count": 33,
   "metadata": {},
   "outputs": [
    {
     "data": {
      "image/png": "[encoded data removed]",
      "text/plain": [
       "<Figure size 432x288 with 1 Axes>"
      ]
     },
     "metadata": {
      "needs_background": "light"
     },
     "output_type": "display_data"
    }
   ],
   "source": [
    "df['power'].hist()\n",
    "plt.title('Car horse power distribution');"
   ]
  },
  {
   "cell_type": "code",
   "execution_count": 34,
   "metadata": {},
   "outputs": [
    {
     "data": {
      "text/plain": [
       "85"
      ]
     },
     "execution_count": 34,
     "metadata": {},
     "output_type": "execute_result"
    }
   ],
   "source": [
    "len(df[df['power'] > 2500])"
   ]
  },
  {
   "cell_type": "code",
   "execution_count": 35,
   "metadata": {},
   "outputs": [
    {
     "data": {
      "text/plain": [
       "32395"
      ]
     },
     "execution_count": 35,
     "metadata": {},
     "output_type": "execute_result"
    }
   ],
   "source": [
    "len(df[df['power'] == 0])"
   ]
  },
  {
   "cell_type": "markdown",
   "metadata": {},
   "source": [
    "Let's remove observations with car power higher than 2500 and also those with 0 horse power as not valid values."
   ]
  },
  {
   "cell_type": "code",
   "execution_count": 36,
   "metadata": {},
   "outputs": [
    {
     "data": {
      "text/plain": [
       "(295871, 16)"
      ]
     },
     "execution_count": 36,
     "metadata": {},
     "output_type": "execute_result"
    }
   ],
   "source": [
    "df.loc[(df['power'] > 2500) | (df['power'] == 0), 'power'] = np.nan\n",
    "\n",
    "df = df.dropna(subset=['power'], axis=0)\n",
    "df.reset_index(drop=True, inplace=True)\n",
    "df.shape"
   ]
  },
  {
   "cell_type": "code",
   "execution_count": 37,
   "metadata": {},
   "outputs": [
    {
     "data": {
      "image/png": "[encoded data removed]",
      "text/plain": [
       "<Figure size 432x288 with 1 Axes>"
      ]
     },
     "metadata": {
      "needs_background": "light"
     },
     "output_type": "display_data"
    }
   ],
   "source": [
    "df.plot.scatter(x='power', y='price', alpha=.25)\n",
    "plt.title('Link between price and power of a vehicle');"
   ]
  },
  {
   "cell_type": "markdown",
   "metadata": {},
   "source": [
    "No clear linear connection between car price and power detected."
   ]
  },
  {
   "cell_type": "markdown",
   "metadata": {},
   "source": [
    "### Car age calculation\n",
    "\n",
    "Let's calculate car age at the moment of price inquiry. We'll extract the year of profile creation and subtract the registration year.  "
   ]
  },
  {
   "cell_type": "code",
   "execution_count": 38,
   "metadata": {},
   "outputs": [],
   "source": [
    "df['year_created'] = df['date_created'].dt.year"
   ]
  },
  {
   "cell_type": "code",
   "execution_count": 39,
   "metadata": {},
   "outputs": [],
   "source": [
    "df['car_age'] = df['year_created'] - df['registration_year']"
   ]
  },
  {
   "cell_type": "code",
   "execution_count": 40,
   "metadata": {
    "scrolled": true
   },
   "outputs": [
    {
     "data": {
      "image/png": "[encoded data removed]",
      "text/plain": [
       "<Figure size 432x288 with 1 Axes>"
      ]
     },
     "metadata": {
      "needs_background": "light"
     },
     "output_type": "display_data"
    }
   ],
   "source": [
    "df.plot.scatter(x='car_age', y='price', alpha=.25)\n",
    "plt.title('Link between price and age of a vehicle');"
   ]
  },
  {
   "cell_type": "markdown",
   "metadata": {},
   "source": [
    "There is a slight linear negative connection between car price and car age - the lower the car age, the lower the price, although it does not stand for all observations (this could be due to other features)."
   ]
  },
  {
   "cell_type": "markdown",
   "metadata": {},
   "source": [
    "#### Postal_code"
   ]
  },
  {
   "cell_type": "code",
   "execution_count": 41,
   "metadata": {},
   "outputs": [
    {
     "data": {
      "image/png": "[encoded data removed]",
      "text/plain": [
       "<Figure size 432x288 with 1 Axes>"
      ]
     },
     "metadata": {
      "needs_background": "light"
     },
     "output_type": "display_data"
    }
   ],
   "source": [
    "df.plot.scatter(x='postal_code', y='price', alpha=.25)\n",
    "plt.title('Link between price and postal_code of a vehicle');"
   ]
  },
  {
   "cell_type": "markdown",
   "metadata": {},
   "source": [
    "No linear dependency between these 2 variables, consider to test a model without `postal_code` feature."
   ]
  },
  {
   "cell_type": "markdown",
   "metadata": {},
   "source": [
    "<div class=\"alert alert-success\">\n",
    "<b>Reviewer's comment</b>\n",
    "\n",
    "Very good! You thoroughly explored the data and removed outliers\n",
    "\n",
    "</div>"
   ]
  },
  {
   "cell_type": "markdown",
   "metadata": {},
   "source": [
    "### Drop columns"
   ]
  },
  {
   "cell_type": "code",
   "execution_count": 42,
   "metadata": {},
   "outputs": [],
   "source": [
    "df = df.drop(['postal_code','date_crawled','last_seen', 'number_of_pictures', 'registration_month', \n",
    "              'date_created', 'registration_year', 'year_created'], axis=1)"
   ]
  },
  {
   "cell_type": "markdown",
   "metadata": {},
   "source": [
    "<div class=\"alert alert-success\">\n",
    "<b>Reviewer's comment</b>\n",
    "\n",
    "Yep, these features look like good candidates for removal\n",
    "\n",
    "</div>"
   ]
  },
  {
   "cell_type": "code",
   "execution_count": 43,
   "metadata": {
    "scrolled": false
   },
   "outputs": [
    {
     "data": {
      "text/html": [
       "<div>\n",
       "<style scoped>\n",
       "    .dataframe tbody tr th:only-of-type {\n",
       "        vertical-align: middle;\n",
       "    }\n",
       "\n",
       "    .dataframe tbody tr th {\n",
       "        vertical-align: top;\n",
       "    }\n",
       "\n",
       "    .dataframe thead th {\n",
       "        text-align: right;\n",
       "    }\n",
       "</style>\n",
       "<table border=\"1\" class=\"dataframe\">\n",
       "  <thead>\n",
       "    <tr style=\"text-align: right;\">\n",
       "      <th></th>\n",
       "      <th>price</th>\n",
       "      <th>vehicle_type</th>\n",
       "      <th>gearbox</th>\n",
       "      <th>power</th>\n",
       "      <th>model</th>\n",
       "      <th>mileage</th>\n",
       "      <th>fuel_type</th>\n",
       "      <th>brand</th>\n",
       "      <th>not_repaired</th>\n",
       "      <th>car_age</th>\n",
       "    </tr>\n",
       "  </thead>\n",
       "  <tbody>\n",
       "    <tr>\n",
       "      <th>0</th>\n",
       "      <td>18300.0</td>\n",
       "      <td>coupe</td>\n",
       "      <td>manual</td>\n",
       "      <td>190.0</td>\n",
       "      <td>n/a</td>\n",
       "      <td>125000</td>\n",
       "      <td>gasoline</td>\n",
       "      <td>audi</td>\n",
       "      <td>yes</td>\n",
       "      <td>5.0</td>\n",
       "    </tr>\n",
       "    <tr>\n",
       "      <th>1</th>\n",
       "      <td>9800.0</td>\n",
       "      <td>suv</td>\n",
       "      <td>auto</td>\n",
       "      <td>163.0</td>\n",
       "      <td>grand</td>\n",
       "      <td>125000</td>\n",
       "      <td>gasoline</td>\n",
       "      <td>jeep</td>\n",
       "      <td>no</td>\n",
       "      <td>12.0</td>\n",
       "    </tr>\n",
       "    <tr>\n",
       "      <th>2</th>\n",
       "      <td>1500.0</td>\n",
       "      <td>small</td>\n",
       "      <td>manual</td>\n",
       "      <td>75.0</td>\n",
       "      <td>golf</td>\n",
       "      <td>150000</td>\n",
       "      <td>petrol</td>\n",
       "      <td>volkswagen</td>\n",
       "      <td>no</td>\n",
       "      <td>15.0</td>\n",
       "    </tr>\n",
       "    <tr>\n",
       "      <th>3</th>\n",
       "      <td>3600.0</td>\n",
       "      <td>small</td>\n",
       "      <td>manual</td>\n",
       "      <td>69.0</td>\n",
       "      <td>fabia</td>\n",
       "      <td>90000</td>\n",
       "      <td>gasoline</td>\n",
       "      <td>skoda</td>\n",
       "      <td>no</td>\n",
       "      <td>8.0</td>\n",
       "    </tr>\n",
       "    <tr>\n",
       "      <th>4</th>\n",
       "      <td>650.0</td>\n",
       "      <td>sedan</td>\n",
       "      <td>manual</td>\n",
       "      <td>102.0</td>\n",
       "      <td>3er</td>\n",
       "      <td>150000</td>\n",
       "      <td>petrol</td>\n",
       "      <td>bmw</td>\n",
       "      <td>yes</td>\n",
       "      <td>21.0</td>\n",
       "    </tr>\n",
       "  </tbody>\n",
       "</table>\n",
       "</div>"
      ],
      "text/plain": [
       "     price vehicle_type gearbox  power  model  mileage fuel_type       brand  \\\n",
       "0  18300.0        coupe  manual  190.0    n/a   125000  gasoline        audi   \n",
       "1   9800.0          suv    auto  163.0  grand   125000  gasoline        jeep   \n",
       "2   1500.0        small  manual   75.0   golf   150000    petrol  volkswagen   \n",
       "3   3600.0        small  manual   69.0  fabia    90000  gasoline       skoda   \n",
       "4    650.0        sedan  manual  102.0    3er   150000    petrol         bmw   \n",
       "\n",
       "  not_repaired  car_age  \n",
       "0          yes      5.0  \n",
       "1           no     12.0  \n",
       "2           no     15.0  \n",
       "3           no      8.0  \n",
       "4          yes     21.0  "
      ]
     },
     "execution_count": 43,
     "metadata": {},
     "output_type": "execute_result"
    }
   ],
   "source": [
    "df.head()"
   ]
  },
  {
   "cell_type": "markdown",
   "metadata": {},
   "source": [
    "## Encoding of categorical variables"
   ]
  },
  {
   "cell_type": "code",
   "execution_count": 44,
   "metadata": {},
   "outputs": [],
   "source": [
    "from sklearn.preprocessing import OrdinalEncoder\n",
    "oe = OrdinalEncoder()"
   ]
  },
  {
   "cell_type": "code",
   "execution_count": 45,
   "metadata": {},
   "outputs": [],
   "source": [
    "cat_columns = ['vehicle_type', 'gearbox', 'model', 'fuel_type', 'brand', 'not_repaired']"
   ]
  },
  {
   "cell_type": "code",
   "execution_count": 46,
   "metadata": {},
   "outputs": [],
   "source": [
    "df[cat_columns] = oe.fit_transform(df[cat_columns])"
   ]
  },
  {
   "cell_type": "code",
   "execution_count": 47,
   "metadata": {},
   "outputs": [
    {
     "data": {
      "text/html": [
       "<div>\n",
       "<style scoped>\n",
       "    .dataframe tbody tr th:only-of-type {\n",
       "        vertical-align: middle;\n",
       "    }\n",
       "\n",
       "    .dataframe tbody tr th {\n",
       "        vertical-align: top;\n",
       "    }\n",
       "\n",
       "    .dataframe thead th {\n",
       "        text-align: right;\n",
       "    }\n",
       "</style>\n",
       "<table border=\"1\" class=\"dataframe\">\n",
       "  <thead>\n",
       "    <tr style=\"text-align: right;\">\n",
       "      <th></th>\n",
       "      <th>price</th>\n",
       "      <th>vehicle_type</th>\n",
       "      <th>gearbox</th>\n",
       "      <th>power</th>\n",
       "      <th>model</th>\n",
       "      <th>mileage</th>\n",
       "      <th>fuel_type</th>\n",
       "      <th>brand</th>\n",
       "      <th>not_repaired</th>\n",
       "      <th>car_age</th>\n",
       "    </tr>\n",
       "  </thead>\n",
       "  <tbody>\n",
       "    <tr>\n",
       "      <th>0</th>\n",
       "      <td>18300.0</td>\n",
       "      <td>2.0</td>\n",
       "      <td>1.0</td>\n",
       "      <td>190.0</td>\n",
       "      <td>159.0</td>\n",
       "      <td>125000</td>\n",
       "      <td>2.0</td>\n",
       "      <td>1.0</td>\n",
       "      <td>1.0</td>\n",
       "      <td>5.0</td>\n",
       "    </tr>\n",
       "    <tr>\n",
       "      <th>1</th>\n",
       "      <td>9800.0</td>\n",
       "      <td>7.0</td>\n",
       "      <td>0.0</td>\n",
       "      <td>163.0</td>\n",
       "      <td>117.0</td>\n",
       "      <td>125000</td>\n",
       "      <td>2.0</td>\n",
       "      <td>14.0</td>\n",
       "      <td>0.0</td>\n",
       "      <td>12.0</td>\n",
       "    </tr>\n",
       "    <tr>\n",
       "      <th>2</th>\n",
       "      <td>1500.0</td>\n",
       "      <td>6.0</td>\n",
       "      <td>1.0</td>\n",
       "      <td>75.0</td>\n",
       "      <td>116.0</td>\n",
       "      <td>150000</td>\n",
       "      <td>7.0</td>\n",
       "      <td>38.0</td>\n",
       "      <td>0.0</td>\n",
       "      <td>15.0</td>\n",
       "    </tr>\n",
       "    <tr>\n",
       "      <th>3</th>\n",
       "      <td>3600.0</td>\n",
       "      <td>6.0</td>\n",
       "      <td>1.0</td>\n",
       "      <td>69.0</td>\n",
       "      <td>101.0</td>\n",
       "      <td>90000</td>\n",
       "      <td>2.0</td>\n",
       "      <td>31.0</td>\n",
       "      <td>0.0</td>\n",
       "      <td>8.0</td>\n",
       "    </tr>\n",
       "    <tr>\n",
       "      <th>4</th>\n",
       "      <td>650.0</td>\n",
       "      <td>5.0</td>\n",
       "      <td>1.0</td>\n",
       "      <td>102.0</td>\n",
       "      <td>11.0</td>\n",
       "      <td>150000</td>\n",
       "      <td>7.0</td>\n",
       "      <td>2.0</td>\n",
       "      <td>1.0</td>\n",
       "      <td>21.0</td>\n",
       "    </tr>\n",
       "  </tbody>\n",
       "</table>\n",
       "</div>"
      ],
      "text/plain": [
       "     price  vehicle_type  gearbox  power  model  mileage  fuel_type  brand  \\\n",
       "0  18300.0           2.0      1.0  190.0  159.0   125000        2.0    1.0   \n",
       "1   9800.0           7.0      0.0  163.0  117.0   125000        2.0   14.0   \n",
       "2   1500.0           6.0      1.0   75.0  116.0   150000        7.0   38.0   \n",
       "3   3600.0           6.0      1.0   69.0  101.0    90000        2.0   31.0   \n",
       "4    650.0           5.0      1.0  102.0   11.0   150000        7.0    2.0   \n",
       "\n",
       "   not_repaired  car_age  \n",
       "0           1.0      5.0  \n",
       "1           0.0     12.0  \n",
       "2           0.0     15.0  \n",
       "3           0.0      8.0  \n",
       "4           1.0     21.0  "
      ]
     },
     "execution_count": 47,
     "metadata": {},
     "output_type": "execute_result"
    }
   ],
   "source": [
    "df.head()"
   ]
  },
  {
   "cell_type": "code",
   "execution_count": 48,
   "metadata": {
    "scrolled": true
   },
   "outputs": [
    {
     "data": {
      "text/html": [
       "<div>\n",
       "<style scoped>\n",
       "    .dataframe tbody tr th:only-of-type {\n",
       "        vertical-align: middle;\n",
       "    }\n",
       "\n",
       "    .dataframe tbody tr th {\n",
       "        vertical-align: top;\n",
       "    }\n",
       "\n",
       "    .dataframe thead th {\n",
       "        text-align: right;\n",
       "    }\n",
       "</style>\n",
       "<table border=\"1\" class=\"dataframe\">\n",
       "  <thead>\n",
       "    <tr style=\"text-align: right;\">\n",
       "      <th></th>\n",
       "      <th>price</th>\n",
       "      <th>vehicle_type</th>\n",
       "      <th>gearbox</th>\n",
       "      <th>power</th>\n",
       "      <th>model</th>\n",
       "      <th>mileage</th>\n",
       "      <th>fuel_type</th>\n",
       "      <th>brand</th>\n",
       "      <th>not_repaired</th>\n",
       "      <th>car_age</th>\n",
       "    </tr>\n",
       "  </thead>\n",
       "  <tbody>\n",
       "    <tr>\n",
       "      <th>0</th>\n",
       "      <td>18300.0</td>\n",
       "      <td>2.0</td>\n",
       "      <td>1.0</td>\n",
       "      <td>190.0</td>\n",
       "      <td>159.0</td>\n",
       "      <td>125000</td>\n",
       "      <td>2.0</td>\n",
       "      <td>1.0</td>\n",
       "      <td>1.0</td>\n",
       "      <td>5.0</td>\n",
       "    </tr>\n",
       "    <tr>\n",
       "      <th>1</th>\n",
       "      <td>9800.0</td>\n",
       "      <td>7.0</td>\n",
       "      <td>0.0</td>\n",
       "      <td>163.0</td>\n",
       "      <td>117.0</td>\n",
       "      <td>125000</td>\n",
       "      <td>2.0</td>\n",
       "      <td>14.0</td>\n",
       "      <td>0.0</td>\n",
       "      <td>12.0</td>\n",
       "    </tr>\n",
       "    <tr>\n",
       "      <th>2</th>\n",
       "      <td>1500.0</td>\n",
       "      <td>6.0</td>\n",
       "      <td>1.0</td>\n",
       "      <td>75.0</td>\n",
       "      <td>116.0</td>\n",
       "      <td>150000</td>\n",
       "      <td>7.0</td>\n",
       "      <td>38.0</td>\n",
       "      <td>0.0</td>\n",
       "      <td>15.0</td>\n",
       "    </tr>\n",
       "    <tr>\n",
       "      <th>3</th>\n",
       "      <td>3600.0</td>\n",
       "      <td>6.0</td>\n",
       "      <td>1.0</td>\n",
       "      <td>69.0</td>\n",
       "      <td>101.0</td>\n",
       "      <td>90000</td>\n",
       "      <td>2.0</td>\n",
       "      <td>31.0</td>\n",
       "      <td>0.0</td>\n",
       "      <td>8.0</td>\n",
       "    </tr>\n",
       "    <tr>\n",
       "      <th>4</th>\n",
       "      <td>650.0</td>\n",
       "      <td>5.0</td>\n",
       "      <td>1.0</td>\n",
       "      <td>102.0</td>\n",
       "      <td>11.0</td>\n",
       "      <td>150000</td>\n",
       "      <td>7.0</td>\n",
       "      <td>2.0</td>\n",
       "      <td>1.0</td>\n",
       "      <td>21.0</td>\n",
       "    </tr>\n",
       "  </tbody>\n",
       "</table>\n",
       "</div>"
      ],
      "text/plain": [
       "     price  vehicle_type  gearbox  power  model  mileage  fuel_type  brand  \\\n",
       "0  18300.0           2.0      1.0  190.0  159.0   125000        2.0    1.0   \n",
       "1   9800.0           7.0      0.0  163.0  117.0   125000        2.0   14.0   \n",
       "2   1500.0           6.0      1.0   75.0  116.0   150000        7.0   38.0   \n",
       "3   3600.0           6.0      1.0   69.0  101.0    90000        2.0   31.0   \n",
       "4    650.0           5.0      1.0  102.0   11.0   150000        7.0    2.0   \n",
       "\n",
       "   not_repaired  car_age  \n",
       "0           1.0      5.0  \n",
       "1           0.0     12.0  \n",
       "2           0.0     15.0  \n",
       "3           0.0      8.0  \n",
       "4           1.0     21.0  "
      ]
     },
     "execution_count": 48,
     "metadata": {},
     "output_type": "execute_result"
    }
   ],
   "source": [
    "#df = pd.get_dummies(df, drop_first=True)\n",
    "df.head()"
   ]
  },
  {
   "cell_type": "markdown",
   "metadata": {},
   "source": [
    "<div class=\"alert alert-warning\">\n",
    "<b>Reviewer's comment</b>\n",
    "\n",
    "Ordinal features were encoded, although the proper way to use OrdinalEncoder is to fit it using the train set and then transform train/validation/test\n",
    "\n",
    "</div>"
   ]
  },
  {
   "cell_type": "markdown",
   "metadata": {},
   "source": [
    "## Splitting data into train, validation and test sets\n",
    "First, let's split data into train and test sets with the 80/20 proportion, respectively."
   ]
  },
  {
   "cell_type": "code",
   "execution_count": 49,
   "metadata": {},
   "outputs": [],
   "source": [
    "X = df.drop(['price'], axis=1)\n",
    "y = df['price']\n",
    "X_train, X_test, y_train, y_test = train_test_split(X, y, test_size = 0.2, random_state=12345)"
   ]
  },
  {
   "cell_type": "code",
   "execution_count": 50,
   "metadata": {},
   "outputs": [],
   "source": [
    "X_train, X_valid, y_train, y_valid = train_test_split(X_train, y_train, \n",
    "                                                                      test_size = 0.2, random_state=12345)"
   ]
  },
  {
   "cell_type": "code",
   "execution_count": 51,
   "metadata": {},
   "outputs": [
    {
     "data": {
      "text/html": [
       "<div>\n",
       "<style scoped>\n",
       "    .dataframe tbody tr th:only-of-type {\n",
       "        vertical-align: middle;\n",
       "    }\n",
       "\n",
       "    .dataframe tbody tr th {\n",
       "        vertical-align: top;\n",
       "    }\n",
       "\n",
       "    .dataframe thead th {\n",
       "        text-align: right;\n",
       "    }\n",
       "</style>\n",
       "<table border=\"1\" class=\"dataframe\">\n",
       "  <thead>\n",
       "    <tr style=\"text-align: right;\">\n",
       "      <th></th>\n",
       "      <th>vehicle_type</th>\n",
       "      <th>gearbox</th>\n",
       "      <th>power</th>\n",
       "      <th>model</th>\n",
       "      <th>mileage</th>\n",
       "      <th>fuel_type</th>\n",
       "      <th>brand</th>\n",
       "      <th>not_repaired</th>\n",
       "      <th>car_age</th>\n",
       "    </tr>\n",
       "  </thead>\n",
       "  <tbody>\n",
       "    <tr>\n",
       "      <th>count</th>\n",
       "      <td>189356.000000</td>\n",
       "      <td>189356.000000</td>\n",
       "      <td>189356.000000</td>\n",
       "      <td>189356.000000</td>\n",
       "      <td>189356.000000</td>\n",
       "      <td>189356.000000</td>\n",
       "      <td>189356.000000</td>\n",
       "      <td>189356.000000</td>\n",
       "      <td>189356.000000</td>\n",
       "    </tr>\n",
       "    <tr>\n",
       "      <th>mean</th>\n",
       "      <td>4.982150</td>\n",
       "      <td>0.801659</td>\n",
       "      <td>121.593892</td>\n",
       "      <td>110.120424</td>\n",
       "      <td>128295.538562</td>\n",
       "      <td>5.354238</td>\n",
       "      <td>20.699666</td>\n",
       "      <td>0.097356</td>\n",
       "      <td>13.182725</td>\n",
       "    </tr>\n",
       "    <tr>\n",
       "      <th>std</th>\n",
       "      <td>2.451718</td>\n",
       "      <td>0.398751</td>\n",
       "      <td>65.891381</td>\n",
       "      <td>70.325827</td>\n",
       "      <td>36749.477125</td>\n",
       "      <td>2.266347</td>\n",
       "      <td>13.357871</td>\n",
       "      <td>0.296443</td>\n",
       "      <td>6.538186</td>\n",
       "    </tr>\n",
       "    <tr>\n",
       "      <th>min</th>\n",
       "      <td>0.000000</td>\n",
       "      <td>0.000000</td>\n",
       "      <td>1.000000</td>\n",
       "      <td>0.000000</td>\n",
       "      <td>5000.000000</td>\n",
       "      <td>0.000000</td>\n",
       "      <td>0.000000</td>\n",
       "      <td>0.000000</td>\n",
       "      <td>0.000000</td>\n",
       "    </tr>\n",
       "    <tr>\n",
       "      <th>25%</th>\n",
       "      <td>5.000000</td>\n",
       "      <td>1.000000</td>\n",
       "      <td>75.000000</td>\n",
       "      <td>42.000000</td>\n",
       "      <td>125000.000000</td>\n",
       "      <td>2.000000</td>\n",
       "      <td>9.000000</td>\n",
       "      <td>0.000000</td>\n",
       "      <td>9.000000</td>\n",
       "    </tr>\n",
       "    <tr>\n",
       "      <th>50%</th>\n",
       "      <td>5.000000</td>\n",
       "      <td>1.000000</td>\n",
       "      <td>111.000000</td>\n",
       "      <td>116.000000</td>\n",
       "      <td>150000.000000</td>\n",
       "      <td>7.000000</td>\n",
       "      <td>24.000000</td>\n",
       "      <td>0.000000</td>\n",
       "      <td>13.000000</td>\n",
       "    </tr>\n",
       "    <tr>\n",
       "      <th>75%</th>\n",
       "      <td>6.000000</td>\n",
       "      <td>1.000000</td>\n",
       "      <td>150.000000</td>\n",
       "      <td>167.000000</td>\n",
       "      <td>150000.000000</td>\n",
       "      <td>7.000000</td>\n",
       "      <td>33.000000</td>\n",
       "      <td>0.000000</td>\n",
       "      <td>17.000000</td>\n",
       "    </tr>\n",
       "    <tr>\n",
       "      <th>max</th>\n",
       "      <td>8.000000</td>\n",
       "      <td>1.000000</td>\n",
       "      <td>2461.000000</td>\n",
       "      <td>249.000000</td>\n",
       "      <td>150000.000000</td>\n",
       "      <td>7.000000</td>\n",
       "      <td>39.000000</td>\n",
       "      <td>1.000000</td>\n",
       "      <td>106.000000</td>\n",
       "    </tr>\n",
       "  </tbody>\n",
       "</table>\n",
       "</div>"
      ],
      "text/plain": [
       "        vehicle_type        gearbox          power          model  \\\n",
       "count  189356.000000  189356.000000  189356.000000  189356.000000   \n",
       "mean        4.982150       0.801659     121.593892     110.120424   \n",
       "std         2.451718       0.398751      65.891381      70.325827   \n",
       "min         0.000000       0.000000       1.000000       0.000000   \n",
       "25%         5.000000       1.000000      75.000000      42.000000   \n",
       "50%         5.000000       1.000000     111.000000     116.000000   \n",
       "75%         6.000000       1.000000     150.000000     167.000000   \n",
       "max         8.000000       1.000000    2461.000000     249.000000   \n",
       "\n",
       "             mileage      fuel_type          brand   not_repaired  \\\n",
       "count  189356.000000  189356.000000  189356.000000  189356.000000   \n",
       "mean   128295.538562       5.354238      20.699666       0.097356   \n",
       "std     36749.477125       2.266347      13.357871       0.296443   \n",
       "min      5000.000000       0.000000       0.000000       0.000000   \n",
       "25%    125000.000000       2.000000       9.000000       0.000000   \n",
       "50%    150000.000000       7.000000      24.000000       0.000000   \n",
       "75%    150000.000000       7.000000      33.000000       0.000000   \n",
       "max    150000.000000       7.000000      39.000000       1.000000   \n",
       "\n",
       "             car_age  \n",
       "count  189356.000000  \n",
       "mean       13.182725  \n",
       "std         6.538186  \n",
       "min         0.000000  \n",
       "25%         9.000000  \n",
       "50%        13.000000  \n",
       "75%        17.000000  \n",
       "max       106.000000  "
      ]
     },
     "execution_count": 51,
     "metadata": {},
     "output_type": "execute_result"
    }
   ],
   "source": [
    "X_train.describe()"
   ]
  },
  {
   "cell_type": "markdown",
   "metadata": {},
   "source": [
    "<div class=\"alert alert-success\">\n",
    "<b>Reviewer's comment</b>\n",
    "\n",
    "The data was split into train, validation and test. The proportions are reasonable.\n",
    "\n",
    "</div>"
   ]
  },
  {
   "cell_type": "markdown",
   "metadata": {},
   "source": [
    "## Standard scaling\n",
    "Let's scale the features before modeling to be able to compare their coefficients in the later sections."
   ]
  },
  {
   "cell_type": "code",
   "execution_count": 52,
   "metadata": {},
   "outputs": [],
   "source": [
    "sc = ss()\n",
    "X_train = sc.fit_transform(X_train)\n",
    "X_valid = sc.transform(X_valid)\n",
    "X_test = sc.transform(X_test)"
   ]
  },
  {
   "cell_type": "markdown",
   "metadata": {},
   "source": [
    "<div class=\"alert alert-success\">\n",
    "<b>Reviewer's comment</b>\n",
    "\n",
    "Scaling is applied correctly\n",
    "\n",
    "</div>"
   ]
  },
  {
   "cell_type": "markdown",
   "metadata": {},
   "source": [
    "## Model selection\n",
    "\n",
    "We will be using the RMSE metric for best model selection.\n",
    "\n",
    "### Linear regression"
   ]
  },
  {
   "cell_type": "code",
   "execution_count": 53,
   "metadata": {},
   "outputs": [
    {
     "data": {
      "text/plain": [
       "3185.4277843754394"
      ]
     },
     "execution_count": 53,
     "metadata": {},
     "output_type": "execute_result"
    }
   ],
   "source": [
    "LR = LinearRegression()\n",
    "start = time()\n",
    "LR.fit(X_train, y_train)\n",
    "end = time()\n",
    "fit_time_LR = end - start\n",
    "\n",
    "start = time()\n",
    "y_pred = LR.predict(X_valid)\n",
    "end = time()\n",
    "predict_time_LR = end - start\n",
    "\n",
    "LR_score = mean_squared_error(y_valid, y_pred) ** 0.5\n",
    "LR_score"
   ]
  },
  {
   "cell_type": "markdown",
   "metadata": {},
   "source": [
    "### Random Forest\n",
    "#### Base model"
   ]
  },
  {
   "cell_type": "code",
   "execution_count": 54,
   "metadata": {},
   "outputs": [
    {
     "data": {
      "text/plain": [
       "1618.2172112391875"
      ]
     },
     "execution_count": 54,
     "metadata": {},
     "output_type": "execute_result"
    }
   ],
   "source": [
    "RF = RandomForestRegressor()\n",
    "\n",
    "start = time()\n",
    "RF.fit(X_train, y_train)\n",
    "end = time()\n",
    "fit_time_RF = end - start\n",
    "\n",
    "start = time()\n",
    "y_pred = RF.predict(X_valid)\n",
    "end = time()\n",
    "predict_time_RF = end - start\n",
    "\n",
    "RF_score_base = mean_squared_error(y_valid, y_pred) ** 0.5\n",
    "RF_score_base"
   ]
  },
  {
   "cell_type": "markdown",
   "metadata": {},
   "source": [
    "#### Hyperparameters tuning"
   ]
  },
  {
   "cell_type": "code",
   "execution_count": 55,
   "metadata": {},
   "outputs": [
    {
     "data": {
      "text/html": [
       "<div>\n",
       "<style scoped>\n",
       "    .dataframe tbody tr th:only-of-type {\n",
       "        vertical-align: middle;\n",
       "    }\n",
       "\n",
       "    .dataframe tbody tr th {\n",
       "        vertical-align: top;\n",
       "    }\n",
       "\n",
       "    .dataframe thead th {\n",
       "        text-align: right;\n",
       "    }\n",
       "</style>\n",
       "<table border=\"1\" class=\"dataframe\">\n",
       "  <thead>\n",
       "    <tr style=\"text-align: right;\">\n",
       "      <th></th>\n",
       "      <th>n_estimators</th>\n",
       "      <th>max_depth</th>\n",
       "      <th>RF_score_tuned</th>\n",
       "      <th>fit_time_RF_tuned</th>\n",
       "      <th>predict_time_RF_tuned</th>\n",
       "    </tr>\n",
       "  </thead>\n",
       "  <tbody>\n",
       "    <tr>\n",
       "      <th>3</th>\n",
       "      <td>500</td>\n",
       "      <td>10</td>\n",
       "      <td>1887.540993</td>\n",
       "      <td>176.388016</td>\n",
       "      <td>2.705401</td>\n",
       "    </tr>\n",
       "  </tbody>\n",
       "</table>\n",
       "</div>"
      ],
      "text/plain": [
       "   n_estimators  max_depth  RF_score_tuned  fit_time_RF_tuned  \\\n",
       "3           500         10     1887.540993         176.388016   \n",
       "\n",
       "   predict_time_RF_tuned  \n",
       "3               2.705401  "
      ]
     },
     "execution_count": 55,
     "metadata": {},
     "output_type": "execute_result"
    }
   ],
   "source": [
    "d = []\n",
    "for estim in [100, 500]:\n",
    "    for depth in [5,10]:\n",
    "        RF = RandomForestRegressor(random_state=12345, n_estimators=estim, max_depth=depth)\n",
    "        \n",
    "        start = time()\n",
    "        RF.fit(X_train, y_train)\n",
    "        end = time()\n",
    "        fit_time_RF_tuned = end - start\n",
    "        \n",
    "        start = time()\n",
    "        y_pred = RF.predict(X_valid)\n",
    "        end = time()\n",
    "        predict_time_RF_tuned = end - start\n",
    "        \n",
    "        RF_score_tuned = mean_squared_error(y_valid, y_pred) ** 0.5\n",
    "        d.append(\n",
    "            {\n",
    "                'n_estimators': estim,\n",
    "                'max_depth': depth,\n",
    "                'RF_score_tuned':  RF_score_tuned,\n",
    "                'fit_time_RF_tuned': fit_time_RF_tuned,\n",
    "                'predict_time_RF_tuned': predict_time_RF_tuned\n",
    "            }\n",
    "        )\n",
    "best_param = pd.DataFrame(d).nsmallest(1, ['RF_score_tuned'], keep='first')\n",
    "RF_score_tuned = best_param['RF_score_tuned'].values\n",
    "fit_time_RF_tuned = best_param['fit_time_RF_tuned'].values\n",
    "predict_time_RF_tuned = best_param['predict_time_RF_tuned'].values\n",
    "\n",
    "best_param"
   ]
  },
  {
   "cell_type": "markdown",
   "metadata": {},
   "source": [
    "### XGBoost"
   ]
  },
  {
   "cell_type": "code",
   "execution_count": 56,
   "metadata": {},
   "outputs": [
    {
     "data": {
      "text/plain": [
       "1632.2643952767942"
      ]
     },
     "execution_count": 56,
     "metadata": {},
     "output_type": "execute_result"
    }
   ],
   "source": [
    "XGB = XGBRegressor(n_jobs=-1)\n",
    "\n",
    "start = time()\n",
    "XGB.fit(X_train, y_train)\n",
    "end = time()\n",
    "fit_time_XGB = end - start\n",
    "\n",
    "start = time()\n",
    "y_pred = XGB.predict(X_valid)\n",
    "end = time()\n",
    "predict_time_XGB = end - start\n",
    "\n",
    "XGB_score_base = mean_squared_error(y_valid, y_pred) ** 0.5\n",
    "XGB_score_base"
   ]
  },
  {
   "cell_type": "markdown",
   "metadata": {},
   "source": [
    "#### Hyperparameters tuning"
   ]
  },
  {
   "cell_type": "code",
   "execution_count": 57,
   "metadata": {},
   "outputs": [
    {
     "data": {
      "text/html": [
       "<div>\n",
       "<style scoped>\n",
       "    .dataframe tbody tr th:only-of-type {\n",
       "        vertical-align: middle;\n",
       "    }\n",
       "\n",
       "    .dataframe tbody tr th {\n",
       "        vertical-align: top;\n",
       "    }\n",
       "\n",
       "    .dataframe thead th {\n",
       "        text-align: right;\n",
       "    }\n",
       "</style>\n",
       "<table border=\"1\" class=\"dataframe\">\n",
       "  <thead>\n",
       "    <tr style=\"text-align: right;\">\n",
       "      <th></th>\n",
       "      <th>n_estimators</th>\n",
       "      <th>max_depth</th>\n",
       "      <th>XGB_score_tuned</th>\n",
       "      <th>fit_time_XGB_tuned</th>\n",
       "      <th>predict_time_XGB_tuned</th>\n",
       "    </tr>\n",
       "  </thead>\n",
       "  <tbody>\n",
       "    <tr>\n",
       "      <th>1</th>\n",
       "      <td>100</td>\n",
       "      <td>10</td>\n",
       "      <td>1578.913839</td>\n",
       "      <td>15.735108</td>\n",
       "      <td>0.098733</td>\n",
       "    </tr>\n",
       "  </tbody>\n",
       "</table>\n",
       "</div>"
      ],
      "text/plain": [
       "   n_estimators  max_depth  XGB_score_tuned  fit_time_XGB_tuned  \\\n",
       "1           100         10      1578.913839           15.735108   \n",
       "\n",
       "   predict_time_XGB_tuned  \n",
       "1                0.098733  "
      ]
     },
     "execution_count": 57,
     "metadata": {},
     "output_type": "execute_result"
    }
   ],
   "source": [
    "d = []\n",
    "for estim in [100, 500]:\n",
    "    for depth in [5, 10]:\n",
    "        XGB = XGBRegressor(random_state=12345, n_estimators=estim, \n",
    "                                       max_depth=depth, n_jobs=-1)\n",
    "        start = time()\n",
    "        XGB.fit(X_train, y_train)\n",
    "        end = time()\n",
    "        fit_time_XGB_tuned = end - start\n",
    "        \n",
    "        start = time()\n",
    "        y_pred = XGB.predict(X_valid)\n",
    "        end = time()\n",
    "        predict_time_XGB_tuned = end - start\n",
    "        \n",
    "        XGB_score_tuned = mean_squared_error(y_valid, y_pred) ** 0.5\n",
    "        d.append(\n",
    "                        {\n",
    "                            'n_estimators': estim,\n",
    "                            'max_depth': depth,\n",
    "                            'XGB_score_tuned':  XGB_score_tuned,\n",
    "                            'fit_time_XGB_tuned': fit_time_XGB_tuned,\n",
    "                            'predict_time_XGB_tuned': predict_time_XGB_tuned\n",
    "                        }\n",
    "                    )\n",
    "\n",
    "best_param = pd.DataFrame(d).nsmallest(1, ['XGB_score_tuned'], keep='first')\n",
    "XGB_score_tuned = best_param['XGB_score_tuned'].values\n",
    "fit_time_XGB_tuned = best_param['fit_time_XGB_tuned'].values\n",
    "predict_time_XGB_tuned = best_param['predict_time_XGB_tuned'].values\n",
    "\n",
    "best_param"
   ]
  },
  {
   "cell_type": "markdown",
   "metadata": {},
   "source": [
    "### LightGBM"
   ]
  },
  {
   "cell_type": "code",
   "execution_count": 59,
   "metadata": {},
   "outputs": [],
   "source": [
    "from lightgbm import LGBMRegressor, LGBMClassifier, Booster"
   ]
  },
  {
   "cell_type": "code",
   "execution_count": 60,
   "metadata": {},
   "outputs": [
    {
     "data": {
      "text/plain": [
       "1709.5836078225118"
      ]
     },
     "execution_count": 60,
     "metadata": {},
     "output_type": "execute_result"
    }
   ],
   "source": [
    "LGB = LGBMRegressor()\n",
    "\n",
    "start = time()\n",
    "LGB.fit(X_train, y_train)\n",
    "end = time()\n",
    "fit_time_LGB = end - start\n",
    "\n",
    "start = time()\n",
    "y_pred = LGB.predict(X_valid)\n",
    "end = time()\n",
    "predict_time_LGB = end - start\n",
    "\n",
    "LGB_score_base = mean_squared_error(y_valid, y_pred) ** 0.5\n",
    "LGB_score_base"
   ]
  },
  {
   "cell_type": "markdown",
   "metadata": {},
   "source": [
    "#### Hyperparameters tuning"
   ]
  },
  {
   "cell_type": "code",
   "execution_count": 61,
   "metadata": {},
   "outputs": [
    {
     "data": {
      "text/html": [
       "<div>\n",
       "<style scoped>\n",
       "    .dataframe tbody tr th:only-of-type {\n",
       "        vertical-align: middle;\n",
       "    }\n",
       "\n",
       "    .dataframe tbody tr th {\n",
       "        vertical-align: top;\n",
       "    }\n",
       "\n",
       "    .dataframe thead th {\n",
       "        text-align: right;\n",
       "    }\n",
       "</style>\n",
       "<table border=\"1\" class=\"dataframe\">\n",
       "  <thead>\n",
       "    <tr style=\"text-align: right;\">\n",
       "      <th></th>\n",
       "      <th>n_estimators</th>\n",
       "      <th>max_depth</th>\n",
       "      <th>LGB_score_tuned</th>\n",
       "      <th>fit_time_LGB_tuned</th>\n",
       "      <th>predict_time_LGB_tuned</th>\n",
       "    </tr>\n",
       "  </thead>\n",
       "  <tbody>\n",
       "    <tr>\n",
       "      <th>3</th>\n",
       "      <td>500</td>\n",
       "      <td>10</td>\n",
       "      <td>1593.323576</td>\n",
       "      <td>3.117732</td>\n",
       "      <td>0.530581</td>\n",
       "    </tr>\n",
       "  </tbody>\n",
       "</table>\n",
       "</div>"
      ],
      "text/plain": [
       "   n_estimators  max_depth  LGB_score_tuned  fit_time_LGB_tuned  \\\n",
       "3           500         10      1593.323576            3.117732   \n",
       "\n",
       "   predict_time_LGB_tuned  \n",
       "3                0.530581  "
      ]
     },
     "execution_count": 61,
     "metadata": {},
     "output_type": "execute_result"
    }
   ],
   "source": [
    "d = []\n",
    "for estim in [100, 500]:\n",
    "    for depth in [5, 10]:\n",
    "        LGB = LGBMRegressor(random_state=12345, n_estimators=estim, \n",
    "                                       max_depth=depth)\n",
    "        start = time()\n",
    "        LGB.fit(X_train, y_train)\n",
    "        end = time()\n",
    "        fit_time_LGB_tuned = end - start\n",
    "        \n",
    "        start = time()\n",
    "        y_pred = LGB.predict(X_valid)\n",
    "        end = time()\n",
    "        predict_time_LGB_tuned = end - start\n",
    "        \n",
    "        LGB_score_tuned = mean_squared_error(y_valid, y_pred) ** 0.5\n",
    "        d.append(\n",
    "            {\n",
    "                 'n_estimators': estim,\n",
    "                  'max_depth': depth,\n",
    "                  'LGB_score_tuned':  LGB_score_tuned,\n",
    "                  'fit_time_LGB_tuned': fit_time_LGB_tuned,\n",
    "                  'predict_time_LGB_tuned': predict_time_LGB_tuned\n",
    "                        }\n",
    "                    )\n",
    "\n",
    "best_param = pd.DataFrame(d).nsmallest(1, ['LGB_score_tuned'], keep='first')\n",
    "LGB_score_tuned = best_param['LGB_score_tuned'].values\n",
    "fit_time_LGB_tuned = best_param['fit_time_LGB_tuned'].values\n",
    "predict_time_LGB_tuned = best_param['predict_time_LGB_tuned'].values\n",
    "\n",
    "best_param"
   ]
  },
  {
   "cell_type": "markdown",
   "metadata": {},
   "source": [
    "### CatBoost"
   ]
  },
  {
   "cell_type": "code",
   "execution_count": 62,
   "metadata": {},
   "outputs": [
    {
     "data": {
      "text/plain": [
       "1610.3825974893487"
      ]
     },
     "execution_count": 62,
     "metadata": {},
     "output_type": "execute_result"
    }
   ],
   "source": [
    "CB = CatBoostRegressor(verbose=0)\n",
    "\n",
    "start = time()\n",
    "CB.fit(X_train, y_train)\n",
    "end = time()\n",
    "fit_time_CB = end - start\n",
    "\n",
    "start = time()\n",
    "y_pred = CB.predict(X_valid)\n",
    "end = time()\n",
    "predict_time_CB = end - start\n",
    "\n",
    "CB_score_base = mean_squared_error(y_valid, y_pred) ** 0.5\n",
    "CB_score_base"
   ]
  },
  {
   "cell_type": "markdown",
   "metadata": {},
   "source": [
    "#### Hyperparameters tuning"
   ]
  },
  {
   "cell_type": "code",
   "execution_count": 63,
   "metadata": {},
   "outputs": [
    {
     "data": {
      "text/html": [
       "<div>\n",
       "<style scoped>\n",
       "    .dataframe tbody tr th:only-of-type {\n",
       "        vertical-align: middle;\n",
       "    }\n",
       "\n",
       "    .dataframe tbody tr th {\n",
       "        vertical-align: top;\n",
       "    }\n",
       "\n",
       "    .dataframe thead th {\n",
       "        text-align: right;\n",
       "    }\n",
       "</style>\n",
       "<table border=\"1\" class=\"dataframe\">\n",
       "  <thead>\n",
       "    <tr style=\"text-align: right;\">\n",
       "      <th></th>\n",
       "      <th>n_estimators</th>\n",
       "      <th>depth</th>\n",
       "      <th>CB_score_tuned</th>\n",
       "      <th>fit_time_CB_tuned</th>\n",
       "      <th>predict_time_CB_tuned</th>\n",
       "    </tr>\n",
       "  </thead>\n",
       "  <tbody>\n",
       "    <tr>\n",
       "      <th>3</th>\n",
       "      <td>500</td>\n",
       "      <td>10</td>\n",
       "      <td>1566.77796</td>\n",
       "      <td>25.316949</td>\n",
       "      <td>0.141621</td>\n",
       "    </tr>\n",
       "  </tbody>\n",
       "</table>\n",
       "</div>"
      ],
      "text/plain": [
       "   n_estimators  depth  CB_score_tuned  fit_time_CB_tuned  \\\n",
       "3           500     10      1566.77796          25.316949   \n",
       "\n",
       "   predict_time_CB_tuned  \n",
       "3               0.141621  "
      ]
     },
     "execution_count": 63,
     "metadata": {},
     "output_type": "execute_result"
    }
   ],
   "source": [
    "d = []\n",
    "for iterations in [100, 500]:\n",
    "    for depth in [5, 10]:\n",
    "        CB = CatBoostRegressor(random_state=12345, iterations=iterations, \n",
    "                                       depth=depth, verbose=0)\n",
    "        start = time()\n",
    "        CB.fit(X_train, y_train)\n",
    "        end = time()\n",
    "        fit_time_CB_tuned = end - start\n",
    "        \n",
    "        start = time()\n",
    "        y_pred = CB.predict(X_valid)\n",
    "        end = time()\n",
    "        predict_time_CB_tuned = end - start\n",
    "        \n",
    "        CB_score_tuned = mean_squared_error(y_valid, y_pred) ** 0.5\n",
    "        d.append(\n",
    "            {\n",
    "                            'n_estimators': estim,\n",
    "                            'depth': depth,\n",
    "                            'CB_score_tuned':  CB_score_tuned,\n",
    "                            'fit_time_CB_tuned': fit_time_CB_tuned,\n",
    "                            'predict_time_CB_tuned': predict_time_CB_tuned\n",
    "                        }\n",
    "                    )\n",
    "\n",
    "best_param = pd.DataFrame(d).nsmallest(1, ['CB_score_tuned'], keep='first')\n",
    "CB_score_tuned = best_param['CB_score_tuned'].values\n",
    "fit_time_CB_tuned = best_param['fit_time_CB_tuned'].values\n",
    "predict_time_CB_tuned = best_param['predict_time_CB_tuned'].values\n",
    "\n",
    "best_param"
   ]
  },
  {
   "cell_type": "markdown",
   "metadata": {},
   "source": [
    "<div class=\"alert alert-success\">\n",
    "<b>Reviewer's comment</b>\n",
    "\n",
    "Very good! You tried a few different models, tuned their hyperparamters using the validation set and recorded both train and prediction time.\n",
    "\n",
    "</div>"
   ]
  },
  {
   "cell_type": "markdown",
   "metadata": {},
   "source": [
    "### Results"
   ]
  },
  {
   "cell_type": "code",
   "execution_count": 64,
   "metadata": {},
   "outputs": [],
   "source": [
    "models = pd.DataFrame({\n",
    "    'Model': ['LR', 'RF_base', 'XGB_base', 'LGB_base', 'CB_base', \n",
    "             'RF_tuned', 'XGB_tuned', 'LGB_tuned', 'CB_tuned'],\n",
    "    'Score': [LR_score, RF_score_base, XGB_score_base, LGB_score_base, CB_score_base,\n",
    "             RF_score_tuned, XGB_score_tuned, LGB_score_tuned, CB_score_tuned],\n",
    "    'Training_time': [fit_time_LR, fit_time_RF, fit_time_XGB, fit_time_LGB, fit_time_CB, fit_time_RF_tuned,\n",
    "             fit_time_XGB_tuned, fit_time_LGB_tuned, fit_time_CB_tuned],\n",
    "    'Prediction_time': [predict_time_LR, predict_time_RF, predict_time_XGB, predict_time_LGB, predict_time_CB, predict_time_RF_tuned,\n",
    "             predict_time_XGB_tuned, predict_time_LGB_tuned, predict_time_CB_tuned]})"
   ]
  },
  {
   "cell_type": "code",
   "execution_count": 65,
   "metadata": {},
   "outputs": [
    {
     "data": {
      "image/png": "[encoded data removed]",
      "text/plain": [
       "<Figure size 1080x360 with 3 Axes>"
      ]
     },
     "metadata": {
      "needs_background": "light"
     },
     "output_type": "display_data"
    }
   ],
   "source": [
    "fig, axs = plt.subplots(1,3,figsize=(15,5)) \n",
    "fig.suptitle('Comparison of Machine Learning Algorithms', fontsize=15)\n",
    "\n",
    "labels = models.sort_values(by='Score')['Model']\n",
    "values = models.sort_values(by='Score')['Score']\n",
    "axs[0].bar(labels, values, color = 'g')\n",
    "axs[0].set_xticklabels(labels, rotation='vertical')\n",
    "axs[0].set_title('RMSE score')\n",
    "\n",
    "labels = models.sort_values(by='Training_time')['Model']\n",
    "values = models.sort_values(by='Training_time')['Training_time']\n",
    "axs[1].bar(labels, values, color = 'b')\n",
    "axs[1].set_xticklabels(labels, rotation='vertical')\n",
    "axs[1].set_title('Training time')\n",
    "\n",
    "labels = models.sort_values(by='Prediction_time')['Model']\n",
    "values = models.sort_values(by='Prediction_time')['Prediction_time']\n",
    "axs[2].bar(labels, values, color = 'orange')\n",
    "axs[2].set_xticklabels(labels, rotation='vertical')\n",
    "axs[2].set_title('Prediction time');"
   ]
  },
  {
   "cell_type": "markdown",
   "metadata": {},
   "source": [
    "As we can see, **XGB_tuned** has the best score (the smallest error). **RF_base** score is close but its training and prediction time is very high. Tuning did not improve much the score for the CB model, probably some other parameters should be changed. Even though the difference between XGB and CB scores is not very significant, the CB model is much faster than the XGB. Based on the combination of all 3 factors, we are going to recommend the **CB_tuned as the final model**.\n",
    "\n",
    "Let's try to tune the learning rate as well for the chosen CB model."
   ]
  },
  {
   "cell_type": "markdown",
   "metadata": {},
   "source": [
    "<div class=\"alert alert-success\">\n",
    "<b>Reviewer's comment</b>\n",
    "\n",
    "Excellent!\n",
    "\n",
    "</div>"
   ]
  },
  {
   "cell_type": "code",
   "execution_count": 66,
   "metadata": {},
   "outputs": [
    {
     "data": {
      "text/html": [
       "<div>\n",
       "<style scoped>\n",
       "    .dataframe tbody tr th:only-of-type {\n",
       "        vertical-align: middle;\n",
       "    }\n",
       "\n",
       "    .dataframe tbody tr th {\n",
       "        vertical-align: top;\n",
       "    }\n",
       "\n",
       "    .dataframe thead th {\n",
       "        text-align: right;\n",
       "    }\n",
       "</style>\n",
       "<table border=\"1\" class=\"dataframe\">\n",
       "  <thead>\n",
       "    <tr style=\"text-align: right;\">\n",
       "      <th></th>\n",
       "      <th>n_estimators</th>\n",
       "      <th>depth</th>\n",
       "      <th>CB_score_tuned</th>\n",
       "      <th>learning_rate</th>\n",
       "      <th>fit_time_CB_tuned</th>\n",
       "      <th>predict_time_CB_tuned</th>\n",
       "    </tr>\n",
       "  </thead>\n",
       "  <tbody>\n",
       "    <tr>\n",
       "      <th>11</th>\n",
       "      <td>500</td>\n",
       "      <td>16</td>\n",
       "      <td>1546.632444</td>\n",
       "      <td>0.1</td>\n",
       "      <td>553.374169</td>\n",
       "      <td>0.241318</td>\n",
       "    </tr>\n",
       "  </tbody>\n",
       "</table>\n",
       "</div>"
      ],
      "text/plain": [
       "    n_estimators  depth  CB_score_tuned  learning_rate  fit_time_CB_tuned  \\\n",
       "11           500     16     1546.632444            0.1         553.374169   \n",
       "\n",
       "    predict_time_CB_tuned  \n",
       "11               0.241318  "
      ]
     },
     "execution_count": 66,
     "metadata": {},
     "output_type": "execute_result"
    }
   ],
   "source": [
    "d = []\n",
    "for iterations in [100, 500]:\n",
    "    for depth in [10, 16]:\n",
    "        for learning_rate in [0.01, 0.05, 0.1]:\n",
    "            CB = CatBoostRegressor(random_state=12345, iterations=iterations, \n",
    "                                           depth=depth, learning_rate=learning_rate, verbose=0)\n",
    "            start = time()\n",
    "            CB.fit(X_train, y_train)\n",
    "            end = time()\n",
    "            fit_time_CB_tuned = end - start\n",
    "\n",
    "            start = time()\n",
    "            y_pred = CB.predict(X_valid)\n",
    "            end = time()\n",
    "            predict_time_CB_tuned = end - start\n",
    "\n",
    "            CB_score_tuned = mean_squared_error(y_valid, y_pred) ** 0.5\n",
    "            d.append(\n",
    "                {\n",
    "                            'n_estimators': estim,\n",
    "                            'depth': depth,\n",
    "                            'CB_score_tuned':  CB_score_tuned,\n",
    "                            'learning_rate': learning_rate,\n",
    "                            'fit_time_CB_tuned': fit_time_CB_tuned,\n",
    "                            'predict_time_CB_tuned': predict_time_CB_tuned\n",
    "                        }\n",
    "                    )\n",
    "\n",
    "best_param = pd.DataFrame(d).nsmallest(1, ['CB_score_tuned'], keep='first')\n",
    "CB_score_tuned = best_param['CB_score_tuned'].values\n",
    "fit_time_CB_tuned = best_param['fit_time_CB_tuned'].values\n",
    "predict_time_CB_tuned = best_param['predict_time_CB_tuned'].values\n",
    "learning_rate = best_param['learning_rate'].values\n",
    "\n",
    "best_param"
   ]
  },
  {
   "cell_type": "markdown",
   "metadata": {},
   "source": [
    "The score improved slightly while the training time has increased several folds. Since the speed is important in this task, let's keep the model with the default learning rate. Finally, we will test our model on the test set."
   ]
  },
  {
   "cell_type": "code",
   "execution_count": 67,
   "metadata": {},
   "outputs": [
    {
     "data": {
      "text/plain": [
       "1537.7697641996706"
      ]
     },
     "execution_count": 67,
     "metadata": {},
     "output_type": "execute_result"
    }
   ],
   "source": [
    "CB = CatBoostRegressor(random_state=12345, iterations=500, \n",
    "                                       depth=10, verbose=0)\n",
    "CB.fit(X_train, y_train)\n",
    "y_pred = CB.predict(X_test)\n",
    "CB_score_test = mean_squared_error(y_test, y_pred) ** 0.5\n",
    "CB_score_test"
   ]
  },
  {
   "cell_type": "markdown",
   "metadata": {},
   "source": [
    "Both validation and test scores are close to each other, we do not observe overfitting."
   ]
  },
  {
   "cell_type": "markdown",
   "metadata": {},
   "source": [
    "<div class=\"alert alert-success\">\n",
    "<b>Reviewer's comment</b>\n",
    "\n",
    "Great, the final model was evaluated on the test set!\n",
    "\n",
    "</div>"
   ]
  },
  {
   "cell_type": "markdown",
   "metadata": {},
   "source": [
    "## Retrain the best tuned model"
   ]
  },
  {
   "cell_type": "markdown",
   "metadata": {},
   "source": [
    "Now, let's retrain our final model on the whole training set and test it on the test set."
   ]
  },
  {
   "cell_type": "code",
   "execution_count": 68,
   "metadata": {},
   "outputs": [],
   "source": [
    "X = df.drop('price', axis=1)\n",
    "y = df['price']\n",
    "X_train, X_test, y_train, y_test = train_test_split(X, y, test_size = 0.25, random_state=12345)\n",
    "\n",
    "X_train = sc.fit_transform(X_train)\n",
    "X_test = sc.transform(X_test)"
   ]
  },
  {
   "cell_type": "markdown",
   "metadata": {},
   "source": [
    "<div class=\"alert alert-warning\">\n",
    "<b>Reviewer's comment</b>\n",
    "\n",
    "The test size doesn't match the test size from the original split\n",
    "\n",
    "</div>"
   ]
  },
  {
   "cell_type": "code",
   "execution_count": 69,
   "metadata": {},
   "outputs": [
    {
     "name": "stdout",
     "output_type": "stream",
     "text": [
      "test RMSE score, eur: 1530.0\n",
      "Training time, sec: 29.0\n",
      "Prediction time, sec: 0.22\n"
     ]
    }
   ],
   "source": [
    "CB_final = CatBoostRegressor(random_state=12345, iterations=500, \n",
    "                                       depth=10, verbose=0)\n",
    "start = time()\n",
    "CB_final.fit(X_train, y_train)\n",
    "end = time()\n",
    "fit_time_final = end - start\n",
    "\n",
    "start = time()\n",
    "y_pred = CB_final.predict(X_test)\n",
    "end = time()\n",
    "predict_time_final = end - start\n",
    "\n",
    "CB_final_score_test = mean_squared_error(y_test, y_pred) ** 0.5\n",
    "print('test RMSE score, eur:', round(CB_final_score_test,0))\n",
    "print('Training time, sec:', round(fit_time_final,0))\n",
    "print('Prediction time, sec:', round(predict_time_final,2))"
   ]
  },
  {
   "cell_type": "markdown",
   "metadata": {},
   "source": [
    "The score slightly improved due to the bigger train set."
   ]
  },
  {
   "cell_type": "markdown",
   "metadata": {},
   "source": [
    "## Sanity check"
   ]
  },
  {
   "cell_type": "code",
   "execution_count": 70,
   "metadata": {},
   "outputs": [
    {
     "data": {
      "text/plain": [
       "3182.192043704941"
      ]
     },
     "execution_count": 70,
     "metadata": {},
     "output_type": "execute_result"
    }
   ],
   "source": [
    "LR.fit(X_train, y_train)\n",
    "y_pred = LR.predict(X_test)\n",
    "LR_score_test = mean_squared_error(y_test, y_pred) ** 0.5\n",
    "LR_score_test"
   ]
  },
  {
   "cell_type": "code",
   "execution_count": 71,
   "metadata": {},
   "outputs": [
    {
     "data": {
      "text/plain": [
       "43.54"
      ]
     },
     "execution_count": 71,
     "metadata": {},
     "output_type": "execute_result"
    }
   ],
   "source": [
    "round((2698.7226521074763-1523.6258860003888)/2698.7226521074763 * 100, 2)"
   ]
  },
  {
   "cell_type": "markdown",
   "metadata": {},
   "source": [
    "The test score of the Linear regression model, that we use as a baseline to analyze the model quality, is `43.54%` higher than our final chosen model. It means that the modeling was useful."
   ]
  },
  {
   "cell_type": "markdown",
   "metadata": {},
   "source": [
    "# Conclusion"
   ]
  },
  {
   "cell_type": "markdown",
   "metadata": {},
   "source": [
    "The goal of this project was to **develop a model to determine the market value of a car based on historical data**. The model had to have a good quality and high offline (training) and online (prediction) speed.\n",
    "\n",
    "I have completed the following steps in this project:\n",
    "\n",
    "-  **Descriptive statistics**. I found missing values, wrong features format, categorical features, possible ouliers in several variables.\n",
    "\n",
    "- **Data preprocessing**. I have converted column names to lower case, changed data type, filled in missing values and removed duplicates.\n",
    "\n",
    "- **EDA**. I have checked for outliers 5 variables, created a new featured (`car_age`) and dropped non-informative columns.\n",
    "\n",
    "- **Encoding of categorical variables**. First I used OHE encoding, but after a long time code running, I found out that OHE should be used with linear models such as linear regression but is not required for tree-based models. OHE encoding even has negative impact on such models. Better solution would be to use ordinal or label encoding for categorical features when using random forest/decision tree/gradient boosting.\n",
    "\n",
    "- **Splitting data into train, validation and test sets**. Data was split into 3 sets to perform best model selection.\n",
    "\n",
    "- **Standard scaling**.\n",
    "\n",
    "- **Model selection**. I have compared Linear Regression, Random Forest, XGBoost, LightGBM and CatBoost models. I also tuned a few hyperparameters for these algorithms. I choose the **tuned CatBoost model** based on RMSE score and training and prediction speed.\n",
    "\n",
    "- **Retrain the best tuned model**. The best model was retrained on the whole training data set in order to increase the volume of data it can learn from. The test score has slightly improved thanks to this step.\n",
    "\n",
    "- **Sanity check**. The test score of the Linear regression model, that we use as a baseline to analyze the model quality, is `43.54%` higher than our final chosen model. It means that the modeling was useful.\n",
    "   \n",
    "The CatBoost model with the tuned hyperparameters has shown the best results (**test RMSE of 1530, time of training  29 seconds, time of prediction 0.22 seconds**) in terms of both quality and speed of training and prediction."
   ]
  },
  {
   "cell_type": "markdown",
   "metadata": {},
   "source": [
    "<div class=\"alert alert-success\">\n",
    "<b>Reviewer's comment</b>\n",
    "\n",
    "Well done! Conclusions look good.\n",
    "\n",
    "</div>"
   ]
  },
  {
   "cell_type": "code",
   "execution_count": null,
   "metadata": {},
   "outputs": [],
   "source": []
  }
 ],
 "metadata": {
  "kernelspec": {
   "display_name": "Python 3",
   "language": "python",
   "name": "python3"
  },
  "language_info": {
   "codemirror_mode": {
    "name": "ipython",
    "version": 3
   },
   "file_extension": ".py",
   "mimetype": "text/x-python",
   "name": "python",
   "nbconvert_exporter": "python",
   "pygments_lexer": "ipython3",
   "version": "3.7.8"
  },
  "toc": {
   "base_numbering": 1,
   "nav_menu": {},
   "number_sections": true,
   "sideBar": true,
   "skip_h1_title": true,
   "title_cell": "Table of Contents",
   "title_sidebar": "Contents",
   "toc_cell": true,
   "toc_position": {},
   "toc_section_display": true,
   "toc_window_display": false
  },
  "varInspector": {
   "cols": {
    "lenName": 16,
    "lenType": 16,
    "lenVar": 40
   },
   "kernels_config": {
    "python": {
     "delete_cmd_postfix": "",
     "delete_cmd_prefix": "del ",
     "library": "var_list.py",
     "varRefreshCmd": "print(var_dic_list())"
    },
    "r": {
     "delete_cmd_postfix": ") ",
     "delete_cmd_prefix": "rm(",
     "library": "var_list.r",
     "varRefreshCmd": "cat(var_dic_list()) "
    }
   },
   "types_to_exclude": [
    "module",
    "function",
    "builtin_function_or_method",
    "instance",
    "_Feature"
   ],
   "window_display": false
  }
 },
 "nbformat": 4,
 "nbformat_minor": 4
}
